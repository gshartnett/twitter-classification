{
 "cells": [
  {
   "cell_type": "code",
   "execution_count": 1,
   "metadata": {
    "collapsed": false
   },
   "outputs": [],
   "source": [
    "## import necessary libraries\n",
    "import os\n",
    "import sys\n",
    "import json\n",
    "import csv\n",
    "import pandas as pd\n",
    "import numpy as np\n",
    "from collections import Counter\n",
    "import random\n",
    "import math\n",
    "import nltk\n",
    "from nltk.corpus import stopwords\n",
    "from prettytable import PrettyTable\n",
    "import matplotlib.pyplot as plt\n",
    "import gc\n",
    "\n",
    "## garbage collection\n",
    "gc.collect();\n",
    "## load the dataframe of (mostly) raw tweets\n",
    "input_file = '../../../tweet_data/cv_data/sentiment140/testdata.manual.2009.06.14.csv'\n",
    "df = pd.read_csv(input_file)\n",
    "df.columns = ['sentiment','?','date','query','screen_name','text']\n",
    "\n",
    "## modify their sentiment scale to match mine:\n",
    "df['sentiment'] = (df['sentiment'] - 2)/2"
   ]
  },
  {
   "cell_type": "code",
   "execution_count": 5,
   "metadata": {
    "collapsed": false
   },
   "outputs": [
    {
     "name": "stdout",
     "output_type": "stream",
     "text": [
      "1.0 || Ok, first assesment of the #kindle2 ...it fucking rocks!!!\n",
      "1.0 || @kenburbary You'll love your Kindle2. I've had mine for a few months and never looked back. The new big one is huge! No need for remorse! :)\n",
      "1.0 || @mikefish  Fair enough. But i have the Kindle2 and I think it's perfect  :)\n",
      "1.0 || @richardebaker no. it is too big. I'm quite happy with the Kindle2.\n",
      "-1.0 || Fuck this economy. I hate aig and their non loan given asses.\n",
      "1.0 || Jquery is my new best friend.\n",
      "1.0 || Loves twitter\n",
      "1.0 || how can you not love Obama? he makes jokes about himself.\n",
      "0.0 || Check this video out -- President Obama at the White House Correspondents' Dinner http://bit.ly/IMXUM\n"
     ]
    }
   ],
   "source": [
    "## manually inspect some cases\n",
    "for i in range(1,10):\n",
    "  print df['sentiment'].iloc[i], '||', df['text'].iloc[i]"
   ]
  },
  {
   "cell_type": "code",
   "execution_count": 6,
   "metadata": {
    "collapsed": false
   },
   "outputs": [],
   "source": [
    "## Preprocessing: set-up\n",
    "\n",
    "## define a preprocessing function that 1) lowers the case, 2) tokenizes into words, 3) lemmatizes\n",
    "from nltk.stem import WordNetLemmatizer\n",
    "wordnet_lemmatizer = WordNetLemmatizer()\n",
    "def preprocess(sentence):\n",
    "  return [wordnet_lemmatizer.lemmatize(word.lower()) for word in nltk.word_tokenize(sentence)]\n",
    "\n",
    "## load the list of english stop words\n",
    "stoplist = stopwords.words('english')\n",
    "\n",
    "## set-up regular expressions to delete all non a-z characters\n",
    "import re\n",
    "regex = re.compile('[^a-zA-Z]')\n",
    "\n",
    "## translation tables for dropping punctuation\n",
    "## treat apostrophes differently from things like .,! also do not include _\n",
    "import string\n",
    "punctuation = string.punctuation\n",
    "#punctuation = punctuation.replace('_', '')\n",
    "punctuation_nospace = punctuation[6]\n",
    "punctuation_space = [p for p in punctuation if p not in punctuation_nospace]\n",
    "translate_table_nospace = dict((ord(char), None) for char in punctuation_nospace)   \n",
    "translate_table_space = dict((ord(char), u' ') for char in punctuation_space)\n",
    "\n",
    "## merge the tables\n",
    "translate_table = translate_table_space.copy()\n",
    "translate_table.update(translate_table_nospace) \n",
    "\n",
    "## load the list of emoticons\n",
    "import codecs\n",
    "f = codecs.open('../../emoticons_positive.txt', encoding='utf-8')\n",
    "pos_emoticons = []\n",
    "for line in f:\n",
    "  pos_emoticons.append(line[0:-1])\n",
    "f = codecs.open('../../emoticons_negative.txt', encoding='utf-8')\n",
    "neg_emoticons = []\n",
    "for line in f:\n",
    "  neg_emoticons.append(line[0:-1])\n",
    "all_emoticons = pos_emoticons + neg_emoticons\n",
    "ASCII_all_emoticons = [e.encode(\"ascii\",\"ignore\") for e in all_emoticons]\n",
    "\n",
    "## Preprocessing: implementation\n",
    "words = []\n",
    "new_text = []\n",
    "for i in range(len(df)):\n",
    "  text_dummy = df['text'].iloc[i]\n",
    "\n",
    "  ## tokenize positive and negative emoticons\n",
    "  ## also pad the token with spaces to catch even embedded tweets such as 'lame:('\n",
    "  for j in range(len(pos_emoticons)):\n",
    "    text_dummy = text_dummy.replace(pos_emoticons[j], ' posemoticontoken' + ' ')\n",
    "  for j in range(len(neg_emoticons)):\n",
    "    text_dummy = text_dummy.replace(neg_emoticons[j], ' negemoticontoken' + ' ')\n",
    "  \n",
    "  ## tokenize handles, hashtags, and url's\n",
    "  text_dummy = text_dummy.replace('@', ' usernametoken') #this catches the '.@XXX' trick\n",
    "  text_dummy = text_dummy.replace('#', ' hashtagtoken')\n",
    "  while 'https://' in text_dummy:\n",
    "    text_dummy = text_dummy[:text_dummy.index('https://')] +' urltoken ' + text_dummy[text_dummy.index('https://')+23:]\n",
    "  while 'http://' in text_dummy:\n",
    "    text_dummy = text_dummy[:text_dummy.index('http://')] +' urltoken ' + text_dummy[text_dummy.index('http://')+22:]\n",
    "  \n",
    "  ## replace html entities with space (note: 'and' is a stopword and so is dropped, so no need to treat & special)\n",
    "  html_entities = [u'&nbsp;', u'&lt;', u'&gt;', u'&amp;', u'&quot;', u'&apos;', u'&cent;', u'&pound;', u'&yen;', u'&euro;', u'&copy;', u'&reg;']\n",
    "  for html in html_entities:\n",
    "    text_dummy = text_dummy.replace(html, '')\n",
    "  \n",
    "  ## drop punctuation, tokenize into words, lower the case, and lemmatize\n",
    "  text_dummy = text_dummy.translate(translate_table)\n",
    "  words_dummy = preprocess(text_dummy)\n",
    "\n",
    "  ## remove stop words\n",
    "  words_dummy = [w for w in words_dummy if not w in stoplist]\n",
    "  \n",
    "  ## anonymize the username_tokens\n",
    "  for j in range(len(words_dummy)):\n",
    "    if words_dummy[j][0:13] == 'usernametoken':\n",
    "      words_dummy[j] = 'usernametoken'\n",
    "\n",
    "  ## remove numbers\n",
    "  words_dummy = [regex.sub('', w) for w in words_dummy if len(regex.sub('', w)) > 0]\n",
    "  \n",
    "  ## make a new sentence for easy vectorized manipulations\n",
    "  words.append(words_dummy)\n",
    "  new_text.append(\" \".join(words_dummy))\n",
    "df['words'] = words\n",
    "df['new_text'] = new_text"
   ]
  },
  {
   "cell_type": "code",
   "execution_count": 7,
   "metadata": {
    "collapsed": false
   },
   "outputs": [
    {
     "name": "stdout",
     "output_type": "stream",
     "text": [
      "avg. positive emoticons per positive tweet: 0.110497237569\n",
      "avg. negative emoticons per negative tweet: 0.0677966101695\n"
     ]
    }
   ],
   "source": [
    "## emoticon statistics\n",
    "pos_emoticon_counter = 0\n",
    "neg_emoticon_counter = 0\n",
    "for i in range(len(df)):\n",
    "  if df['sentiment'].iloc[i] == 1:\n",
    "    pos_emoticon_counter += Counter(df['words'].iloc[i])['posemoticontoken']\n",
    "  if df['sentiment'].iloc[i] == -1:\n",
    "    neg_emoticon_counter += Counter(df['words'].iloc[i])['negemoticontoken']\n",
    "\n",
    "print 'avg. positive emoticons per positive tweet:', float(pos_emoticon_counter)/sum(df['sentiment']==1)\n",
    "print 'avg. negative emoticons per negative tweet:', float(neg_emoticon_counter)/sum(df['sentiment']==-1)"
   ]
  },
  {
   "cell_type": "code",
   "execution_count": 8,
   "metadata": {
    "collapsed": false
   },
   "outputs": [
    {
     "name": "stdout",
     "output_type": "stream",
     "text": [
      "number of tweets: 497\n",
      "  number of neutral tweets: 139, 27.967806841%\n",
      "  number of positive tweets: 181, 36.4185110664%\n",
      "  number of negative tweets: 177, 35.6136820926%\n",
      "\n",
      "training set statistics:\n",
      "  total number of words: 4409\n",
      "  total number of unique words: 1839\n",
      "  lexical diversity: 0.417101383534\n",
      "\n",
      "\n",
      "+------------------+-------+\n",
      "| Word             | Count |\n",
      "+------------------+-------+\n",
      "| urltoken         |   130 |\n",
      "| usernametoken    |   126 |\n",
      "| time             |    50 |\n",
      "| night            |    37 |\n",
      "| new              |    36 |\n",
      "| warner           |    36 |\n",
      "| wa               |    34 |\n",
      "| good             |    33 |\n",
      "| love             |    32 |\n",
      "| nike             |    27 |\n",
      "| posemoticontoken |    26 |\n",
      "| im               |    26 |\n",
      "| museum           |    26 |\n",
      "| got              |    23 |\n",
      "| see              |    22 |\n",
      "| gm               |    22 |\n",
      "| get              |    21 |\n",
      "| jquery           |    21 |\n",
      "| hate             |    20 |\n",
      "| kindle           |    20 |\n",
      "+------------------+-------+\n"
     ]
    },
    {
     "data": {
      "image/png": "[encoded data removed]",
      "text/plain": [
       "<matplotlib.figure.Figure at 0x7fc7f5e448d0>"
      ]
     },
     "metadata": {},
     "output_type": "display_data"
    },
    {
     "data": {
      "image/png": "[encoded data removed]",
      "text/plain": [
       "<matplotlib.figure.Figure at 0x7fc7f38cc350>"
      ]
     },
     "metadata": {},
     "output_type": "display_data"
    }
   ],
   "source": [
    "words_tot = [item for sublist in df['words'] for item in sublist]\n",
    "count = Counter(words_tot).most_common()\n",
    "words_unique = [count[i][0] for i in range(len(count))]\n",
    "words_frequencies = [count[i][1] for i in range(len(count))]\n",
    "\n",
    "## print out some preliminary statistics\n",
    "print 'number of tweets: ' + str(len(df))\n",
    "print '  number of neutral tweets: ' + str(sum(df['sentiment']==0)) + ', ' + str(float(sum(df['sentiment']==0))/len(df)*100) + '%'\n",
    "print '  number of positive tweets: ' + str(sum(df['sentiment']==1)) + ', ' + str(float(sum(df['sentiment']==1))/len(df)*100) + '%'\n",
    "print '  number of negative tweets: ' + str(sum(df['sentiment']==-1)) + ', ' + str(float(sum(df['sentiment']==-1))/len(df)*100) + '%'\n",
    "\n",
    "if sum(df['sentiment']==-1) + sum(df['sentiment']==0) + sum(df['sentiment']==1) != len(df):\n",
    "  print 'Warning: not all tweets classified as 1,0,-1!'\n",
    "\n",
    "## lexical diversity\n",
    "def lexical_diversity(tokens):\n",
    "    return 1.0*len(set(tokens))/len(tokens) \n",
    "\n",
    "print '\\ntraining set statistics:'\n",
    "print '  total number of words:', len(words_tot)\n",
    "print '  total number of unique words:', len(words_unique)\n",
    "print '  lexical diversity:', lexical_diversity(words_tot)\n",
    "\n",
    "## examine word frequencies\n",
    "print '\\n'\n",
    "pt = PrettyTable(field_names=['Word', 'Count']) \n",
    "[ pt.add_row(kv) for kv in count[:20] ]\n",
    "pt.align['Word'], pt.align['Count'] = 'l', 'r' #set column alignment\n",
    "print pt\n",
    "\n",
    "## get a sense for the frequency distribution of words\n",
    "## what % of words occur with frequency <= x\n",
    "maxwordfreq = [100.0*c*words_frequencies.count(c)/len(words_tot) for c in range(1,50)]\n",
    "for i in range(1,len(maxwordfreq)):\n",
    "  maxwordfreq[i] += maxwordfreq[i-1]\n",
    "%matplotlib inline\n",
    "plt.plot(maxwordfreq, c='black')\n",
    "plt.ylabel('percent of words')\n",
    "plt.xlabel('max word frequency')\n",
    "plt.show()\n",
    "\n",
    "## plot frequency(rank)\n",
    "words_tot_counts = sorted(Counter(words_tot).values(), reverse=True)\n",
    "plt.loglog(words_tot_counts, c='black')\n",
    "plt.ylabel('frequency')\n",
    "plt.xlabel('word rank')\n",
    "plt.show()"
   ]
  },
  {
   "cell_type": "code",
   "execution_count": 10,
   "metadata": {
    "collapsed": false
   },
   "outputs": [],
   "source": [
    "## save the processed data\n",
    "output_file = '../../../tweet_data/cv_data/sentiment140/sentiment140_cv_data_processed.pkl'\n",
    "df_final = df.copy(deep=True)\n",
    "df_final = df_final.drop([l for l in list(df.columns.values) if l not in ['sentiment','words','text']], axis=1)\n",
    "df_final.to_pickle(output_file)"
   ]
  },
  {
   "cell_type": "code",
   "execution_count": 8,
   "metadata": {
    "collapsed": false
   },
   "outputs": [
    {
     "name": "stdout",
     "output_type": "stream",
     "text": [
      "I was talking to this guy last night and he was telling me that he is a die hard Spurs fan.  He also told me that he hates LeBron James.\n",
      "[u'wa', u'talking', u'guy', u'last', u'night', u'wa', u'telling', u'die', u'hard', u'spur', u'fan', u'also', u'told', u'hate', u'lebron', u'james']\n",
      "-1.0\n",
      "497\n"
     ]
    }
   ],
   "source": [
    "## example for blog write-up\n",
    "print df['text'].iloc[15]\n",
    "print df['words'].iloc[15]\n",
    "print df['sentiment'].iloc[15]\n",
    "print len(df)"
   ]
  }
 ],
 "metadata": {
  "kernelspec": {
   "display_name": "Python 2, Gavin",
   "language": "python",
   "name": "python2"
  },
  "language_info": {
   "codemirror_mode": {
    "name": "ipython",
    "version": 2
   },
   "file_extension": ".py",
   "mimetype": "text/x-python",
   "name": "python",
   "nbconvert_exporter": "python",
   "pygments_lexer": "ipython2",
   "version": "2.7.11"
  }
 },
 "nbformat": 4,
 "nbformat_minor": 0
}
