{
 "cells": [
  {
   "cell_type": "code",
   "execution_count": 1,
   "metadata": {
    "collapsed": false
   },
   "outputs": [],
   "source": [
    "## import necessary libraries\n",
    "import os\n",
    "import sys\n",
    "import json\n",
    "import csv\n",
    "import pandas as pd\n",
    "import numpy as np\n",
    "from collections import Counter\n",
    "import random\n",
    "import math\n",
    "import nltk\n",
    "from nltk.corpus import stopwords\n",
    "from prettytable import PrettyTable\n",
    "import matplotlib.pyplot as plt\n",
    "import gc\n",
    "\n",
    "## garbage collection\n",
    "gc.collect();\n",
    "\n",
    "## load the dataframe of (mostly) raw tweets\n",
    "input_file = '../../../tweet_data/cv_data/sanders_analytics/sanders_analytics_cv_data_unprocessed.pkl'\n",
    "df = pd.read_pickle(input_file)\n",
    "\n",
    "## load the label-id dictionary\n",
    "label_id_dict = pd.read_csv('corpus.csv')\n",
    "label_id_dict.columns = ['query','sentiment','id']"
   ]
  },
  {
   "cell_type": "code",
   "execution_count": 2,
   "metadata": {
    "collapsed": false
   },
   "outputs": [],
   "source": [
    "## use the dictionary to assign sentiments\n",
    "sent_list = []\n",
    "for i in range(len(df)):\n",
    "  id_dummy = label_id_dict.id[label_id_dict.id == df['id'].iloc[i]].index.tolist()\n",
    "  if len(id_dummy) == 1:\n",
    "    if label_id_dict['sentiment'].iloc[id_dummy[0]] == 'positive':\n",
    "      sent_list.append(1)\n",
    "    if label_id_dict['sentiment'].iloc[id_dummy[0]] == 'neutral':\n",
    "      sent_list.append(0)\n",
    "    if label_id_dict['sentiment'].iloc[id_dummy[0]] == 'negative':\n",
    "      sent_list.append(-1)\n",
    "    if label_id_dict['sentiment'].iloc[id_dummy[0]] == 'irrelevant':\n",
    "      sent_list.append('irrelevant')\n",
    "  else:\n",
    "    print 'problem!'\n",
    "df['sentiment'] = sent_list"
   ]
  },
  {
   "cell_type": "code",
   "execution_count": 3,
   "metadata": {
    "collapsed": false
   },
   "outputs": [
    {
     "name": "stdout",
     "output_type": "stream",
     "text": [
      "duplicates deleted: 0\n",
      "current number of tweets: 4447\n"
     ]
    }
   ],
   "source": [
    "## delete the duplicates\n",
    "Noriginal = len(df)\n",
    "df = df.drop_duplicates(subset='id', keep='last')\n",
    "print 'duplicates deleted: ' + str(Noriginal - len(df))\n",
    "df = df.reset_index(drop=True)\n",
    "print 'current number of tweets: ' + str(len(df))"
   ]
  },
  {
   "cell_type": "code",
   "execution_count": 4,
   "metadata": {
    "collapsed": false
   },
   "outputs": [
    {
     "name": "stdout",
     "output_type": "stream",
     "text": [
      "number of retweets deleted: 361\n"
     ]
    }
   ],
   "source": [
    "## delete the retweets\n",
    "print 'number of retweets deleted: ' + str(sum(list(df['retweet'])))\n",
    "df = df[[not i for i in list(df['retweet'])]]"
   ]
  },
  {
   "cell_type": "code",
   "execution_count": 5,
   "metadata": {
    "collapsed": false
   },
   "outputs": [
    {
     "name": "stdout",
     "output_type": "stream",
     "text": [
      "non-English tweets deleted: 1303\n",
      "current number of tweets: 2783\n"
     ]
    }
   ],
   "source": [
    "## drop the non-English tweets (most dropped tweets seem to actually be English...)\n",
    "lang_drop = (df['lang']!='en')\n",
    "print 'non-English tweets deleted: ' + str(sum(lang_drop))\n",
    "df = df[list([not i for i in lang_drop])]\n",
    "df = df.reset_index(drop=True)\n",
    "print 'current number of tweets: ' + str(len(df))"
   ]
  },
  {
   "cell_type": "code",
   "execution_count": 6,
   "metadata": {
    "collapsed": false
   },
   "outputs": [
    {
     "name": "stdout",
     "output_type": "stream",
     "text": [
      "irrelevant tweets deleted: 159\n",
      "current number of tweets: 2624\n"
     ]
    }
   ],
   "source": [
    "## drop the irrelevant tweets\n",
    "irrelevant_drop = (df['sentiment']=='irrelevant')\n",
    "print 'irrelevant tweets deleted: ' + str(sum(irrelevant_drop))\n",
    "df = df[list([not i for i in irrelevant_drop])]\n",
    "df = df.reset_index(drop=True)\n",
    "print 'current number of tweets: ' + str(len(df))"
   ]
  },
  {
   "cell_type": "code",
   "execution_count": 7,
   "metadata": {
    "collapsed": false
   },
   "outputs": [
    {
     "name": "stdout",
     "output_type": "stream",
     "text": [
      "0 || Gentle Ballmer meekly suggests the competition is doomed - #Microsoft is winning, winning, winning!: http://t.co/7ntP5MS1 via @thetecheye\n",
      "0 || Can search the last 30 days of Gmail, whether connected or not. #Google #Android #ICS\n",
      "0 || RT @edatpost: .@Apple fan Eric Holder spotted at the Genius Store http://t.co/OshPyV2G\n",
      "1 || Is #Google Down? http://t.co/wFrzKYsN via @Ejunkie Good for #Bing, #Microsoft ’s investments paying off\n",
      "0 || #Android Ice Cream Sandwich features face-recognition to unlock your phone, no more entering a pin or password #fb #google\n",
      "0 || I wonder If the person who has @apple is holding out for apple to buy it from them\n",
      "0 || Ice Cream Sandwich arrives http://t.co/Z4j7WhmS #google #icecream #android #samsung\n",
      "-1 || Bummer!  My @Yahoo! iPad fantasy football app keeps crashing; not sure if it's the app or the new @apple iOS 5. Only two apps running.\n",
      "0 || - #twitter please forgive my last slew of tweets I'm having a rough night , but I pray you'll forgive me .#tosleepigo\n",
      "1 || #Android #Google Device Frame Generator Updated For Galaxy Nexus - Your Screenshots Just Got Prettier http://t.co/9bWt2W6z #DhilipSiva\n",
      "0 || Hm... Can't decide if I should like it or not... #Microsoft #OmniTouch  http://t.co/k074N0z2\n",
      "0 || Did you know there is a #Microsoft Learning facebook page where you can find deals and course info #MCTSummitNA\n",
      "1 || Cant build a website. Get a #Google website #Free ! http://t.co/7qUy4uOU\n",
      "0 || @jpobrien11 or windows bridge for windows phones and don't try and pretend apple didn't steal the notification bar from #google #droidtweets\n",
      "0 || @Apple how fun wouldn't it be if it was possible to integrate  ( soon to be named ) with notifications?\n",
      "0 || Check out this great Blog w/ Tips from #YouSendIt - what 2 Consider When Migrating 2 #Microsoft Exchange 2010 http://t.co/eeF3780B @YSI\n",
      "1 || Are you using #Google+ and #Linkedin yet? These are essential tools to get your company and/or you on the FIRST page of Google. Contact...\n",
      "0 || He Like Kissing The Little Pink Puss Lls #Twitter This After Dark\n",
      "-1 || #Microsoft, #Adobe lose $13.5bn to piracy: Report http://t.co/wXBC1UUw\n",
      "0 || Hanging out at #Microsoft Commons with @VinceMayfield\n",
      "0 || #Microsoft Takes a Shot at the #Wii in Their Newest #DanceCentral 2 Ad [Video] http://t.co/A8tlwr3o #Kinect #games\n",
      "-1 || @APPLE Wow @MOTOROLA Just crushed your dreams....\n",
      "0 || Also, I maybe missing something here. But I thought #Google bought #Motorola Mobile? So, what's with all the #Samsung Love??\n",
      "1 || Apples to oranges maybe, but #Twitter is way more engaging than #FB. Content vs. Stalkerismo\n",
      "0 || #Google confirms that the Nexus S will actually get the ice cream sandwich update.\n"
     ]
    }
   ],
   "source": [
    "## manually inspect some cases\n",
    "for i in range(0,25):\n",
    "  print df['sentiment'].iloc[i], '||', df['text'].iloc[i]"
   ]
  },
  {
   "cell_type": "code",
   "execution_count": 8,
   "metadata": {
    "collapsed": false
   },
   "outputs": [],
   "source": [
    "## Preprocessing: set-up\n",
    "\n",
    "## define a preprocessing function that 1) lowers the case, 2) tokenizes into words, 3) lemmatizes\n",
    "from nltk.stem import WordNetLemmatizer\n",
    "wordnet_lemmatizer = WordNetLemmatizer()\n",
    "def preprocess(sentence):\n",
    "  return [wordnet_lemmatizer.lemmatize(word.lower()) for word in nltk.word_tokenize(sentence)]\n",
    "\n",
    "## load the list of english stop words\n",
    "stoplist = stopwords.words('english')\n",
    "\n",
    "## set-up regular expressions to delete all non a-z characters\n",
    "import re\n",
    "regex = re.compile('[^a-zA-Z]')\n",
    "\n",
    "## translation tables for dropping punctuation\n",
    "## treat apostrophes differently from things like .,! also do not include _\n",
    "import string\n",
    "punctuation = string.punctuation\n",
    "#punctuation = punctuation.replace('_', '')\n",
    "punctuation_nospace = punctuation[6]\n",
    "punctuation_space = [p for p in punctuation if p not in punctuation_nospace]\n",
    "translate_table_nospace = dict((ord(char), None) for char in punctuation_nospace)   \n",
    "translate_table_space = dict((ord(char), u' ') for char in punctuation_space)\n",
    "\n",
    "## merge the tables\n",
    "translate_table = translate_table_space.copy()\n",
    "translate_table.update(translate_table_nospace) \n",
    "\n",
    "## load the list of emoticons\n",
    "import codecs\n",
    "f = codecs.open('../../emoticons_positive.txt', encoding='utf-8')\n",
    "pos_emoticons = []\n",
    "for line in f:\n",
    "  pos_emoticons.append(line[0:-1])\n",
    "f = codecs.open('../../emoticons_negative.txt', encoding='utf-8')\n",
    "neg_emoticons = []\n",
    "for line in f:\n",
    "  neg_emoticons.append(line[0:-1])\n",
    "all_emoticons = pos_emoticons + neg_emoticons\n",
    "ASCII_all_emoticons = [e.encode(\"ascii\",\"ignore\") for e in all_emoticons]\n",
    "\n",
    "## Preprocessing: implementation\n",
    "words = []\n",
    "new_text = []\n",
    "for i in range(len(df)):\n",
    "  text_dummy = df['text'].iloc[i]\n",
    "\n",
    "  ## tokenize positive and negative emoticons\n",
    "  ## also pad the token with spaces to catch even embedded tweets such as 'lame:('\n",
    "  for j in range(len(pos_emoticons)):\n",
    "    text_dummy = text_dummy.replace(pos_emoticons[j], ' posemoticontoken' + ' ')\n",
    "  for j in range(len(neg_emoticons)):\n",
    "    text_dummy = text_dummy.replace(neg_emoticons[j], ' negemoticontoken' + ' ')\n",
    "  \n",
    "  ## tokenize handles, hashtags, and url's\n",
    "  text_dummy = text_dummy.replace('@', ' usernametoken') #this catches the '.@XXX' trick\n",
    "  text_dummy = text_dummy.replace('#', ' hashtagtoken')\n",
    "  while 'https://' in text_dummy:\n",
    "    text_dummy = text_dummy[:text_dummy.index('https://')] +' urltoken ' + text_dummy[text_dummy.index('https://')+23:]\n",
    "  while 'http://' in text_dummy:\n",
    "    text_dummy = text_dummy[:text_dummy.index('http://')] +' urltoken ' + text_dummy[text_dummy.index('http://')+22:]\n",
    "  \n",
    "  ## replace html entities with space (note: 'and' is a stopword and so is dropped, so no need to treat & special)\n",
    "  html_entities = [u'&nbsp;', u'&lt;', u'&gt;', u'&amp;', u'&quot;', u'&apos;', u'&cent;', u'&pound;', u'&yen;', u'&euro;', u'&copy;', u'&reg;']\n",
    "  for html in html_entities:\n",
    "    text_dummy = text_dummy.replace(html, '')\n",
    "  \n",
    "  ## drop punctuation, tokenize into words, lower the case, and lemmatize\n",
    "  text_dummy = text_dummy.translate(translate_table)\n",
    "  words_dummy = preprocess(text_dummy)\n",
    "\n",
    "  ## remove stop words\n",
    "  words_dummy = [w for w in words_dummy if not w in stoplist]\n",
    "  \n",
    "  ## anonymize the username_tokens\n",
    "  for j in range(len(words_dummy)):\n",
    "    if words_dummy[j][0:13] == 'usernametoken':\n",
    "      words_dummy[j] = 'usernametoken'\n",
    "\n",
    "  ## remove numbers\n",
    "  words_dummy = [regex.sub('', w) for w in words_dummy if len(regex.sub('', w)) > 0]\n",
    "  \n",
    "  ## make a new sentence for easy vectorized manipulations\n",
    "  words.append(words_dummy)\n",
    "  new_text.append(\" \".join(words_dummy))\n",
    "df['words'] = words\n",
    "df['new_text'] = new_text"
   ]
  },
  {
   "cell_type": "code",
   "execution_count": 9,
   "metadata": {
    "collapsed": false
   },
   "outputs": [
    {
     "name": "stdout",
     "output_type": "stream",
     "text": [
      "avg. positive emoticons per positive tweet: 0.0508905852417\n",
      "avg. negative emoticons per negative tweet: 0.0242825607064\n"
     ]
    }
   ],
   "source": [
    "## emoticon statistics\n",
    "pos_emoticon_counter = 0\n",
    "neg_emoticon_counter = 0\n",
    "for i in range(len(df)):\n",
    "  if df['sentiment'].iloc[i] == 1:\n",
    "    pos_emoticon_counter += Counter(df['words'].iloc[i])['posemoticontoken']\n",
    "  if df['sentiment'].iloc[i] == -1:\n",
    "    neg_emoticon_counter += Counter(df['words'].iloc[i])['negemoticontoken']\n",
    "\n",
    "print 'avg. positive emoticons per positive tweet:', float(pos_emoticon_counter)/sum(df['sentiment']==1)\n",
    "print 'avg. negative emoticons per negative tweet:', float(neg_emoticon_counter)/sum(df['sentiment']==-1)"
   ]
  },
  {
   "cell_type": "code",
   "execution_count": 10,
   "metadata": {
    "collapsed": false
   },
   "outputs": [
    {
     "name": "stdout",
     "output_type": "stream",
     "text": [
      "number of tweets: 2624\n",
      "  number of neutral tweets: 1778, 67.7591463415%\n",
      "  number of positive tweets: 393, 14.9771341463%\n",
      "  number of negative tweets: 453, 17.2637195122%\n",
      "\n",
      "training set statistics:\n",
      "  total number of words: 26939\n",
      "  total number of unique words: 5357\n",
      "  lexical diversity: 0.198856676194\n",
      "\n",
      "\n",
      "+-----------------------+-------+\n",
      "| Word                  | Count |\n",
      "+-----------------------+-------+\n",
      "| usernametoken         |  1818 |\n",
      "| urltoken              |  1197 |\n",
      "| hashtagtokenmicrosoft |   669 |\n",
      "| hashtagtokengoogle    |   667 |\n",
      "| hashtagtokentwitter   |   495 |\n",
      "| hashtagtokenandroid   |   322 |\n",
      "| new                   |   227 |\n",
      "| phone                 |   176 |\n",
      "| rt                    |   157 |\n",
      "| iphone                |   153 |\n",
      "| sandwich              |   152 |\n",
      "| cream                 |   150 |\n",
      "| ice                   |   142 |\n",
      "| get                   |   134 |\n",
      "| nexus                 |   129 |\n",
      "| android               |   119 |\n",
      "| google                |   110 |\n",
      "| galaxy                |   109 |\n",
      "| like                  |   106 |\n",
      "| store                 |   103 |\n",
      "+-----------------------+-------+\n"
     ]
    },
    {
     "data": {
      "image/png": "[encoded data removed]",
      "text/plain": [
       "<matplotlib.figure.Figure at 0x7fc384ad5ed0>"
      ]
     },
     "metadata": {},
     "output_type": "display_data"
    },
    {
     "data": {
      "image/png": "[encoded data removed]",
      "text/plain": [
       "<matplotlib.figure.Figure at 0x7fc38237e050>"
      ]
     },
     "metadata": {},
     "output_type": "display_data"
    }
   ],
   "source": [
    "words_tot = [item for sublist in df['words'] for item in sublist]\n",
    "count = Counter(words_tot).most_common()\n",
    "words_unique = [count[i][0] for i in range(len(count))]\n",
    "words_frequencies = [count[i][1] for i in range(len(count))]\n",
    "\n",
    "## print out some preliminary statistics\n",
    "print 'number of tweets: ' + str(len(df))\n",
    "print '  number of neutral tweets: ' + str(sum(df['sentiment']==0)) + ', ' + str(float(sum(df['sentiment']==0))/len(df)*100) + '%'\n",
    "print '  number of positive tweets: ' + str(sum(df['sentiment']==1)) + ', ' + str(float(sum(df['sentiment']==1))/len(df)*100) + '%'\n",
    "print '  number of negative tweets: ' + str(sum(df['sentiment']==-1)) + ', ' + str(float(sum(df['sentiment']==-1))/len(df)*100) + '%'\n",
    "\n",
    "if sum(df['sentiment']==-1) + sum(df['sentiment']==0) + sum(df['sentiment']==1) != len(df):\n",
    "  print 'Warning: not all tweets classified as 1,0,-1!'\n",
    "\n",
    "## lexical diversity\n",
    "def lexical_diversity(tokens):\n",
    "    return 1.0*len(set(tokens))/len(tokens) \n",
    "\n",
    "print '\\ntraining set statistics:'\n",
    "print '  total number of words:', len(words_tot)\n",
    "print '  total number of unique words:', len(words_unique)\n",
    "print '  lexical diversity:', lexical_diversity(words_tot)\n",
    "\n",
    "## examine word frequencies\n",
    "print '\\n'\n",
    "pt = PrettyTable(field_names=['Word', 'Count']) \n",
    "[ pt.add_row(kv) for kv in count[:20] ]\n",
    "pt.align['Word'], pt.align['Count'] = 'l', 'r' #set column alignment\n",
    "print pt\n",
    "\n",
    "## get a sense for the frequency distribution of words\n",
    "## what % of words occur with frequency <= x\n",
    "maxwordfreq = [100.0*c*words_frequencies.count(c)/len(words_tot) for c in range(1,50)]\n",
    "for i in range(1,len(maxwordfreq)):\n",
    "  maxwordfreq[i] += maxwordfreq[i-1]\n",
    "%matplotlib inline\n",
    "plt.plot(maxwordfreq, c='black')\n",
    "plt.ylabel('percent of words')\n",
    "plt.xlabel('max word frequency')\n",
    "plt.show()\n",
    "\n",
    "## plot frequency(rank)\n",
    "words_tot_counts = sorted(Counter(words_tot).values(), reverse=True)\n",
    "plt.loglog(words_tot_counts, c='black')\n",
    "plt.ylabel('frequency')\n",
    "plt.xlabel('word rank')\n",
    "plt.show()"
   ]
  },
  {
   "cell_type": "code",
   "execution_count": 13,
   "metadata": {
    "collapsed": false
   },
   "outputs": [],
   "source": [
    "## save the processed data\n",
    "output_file = '../../../tweet_data/cv_data/sanders_analytics/sanders_analytics_cv_data_processed.pkl'\n",
    "df_final = df.copy(deep=True)\n",
    "df_final = df_final.drop([l for l in list(df.columns.values) if l not in ['sentiment','words','text']], axis=1)\n",
    "df_final.to_pickle(output_file)"
   ]
  },
  {
   "cell_type": "code",
   "execution_count": null,
   "metadata": {
    "collapsed": true
   },
   "outputs": [],
   "source": []
  }
 ],
 "metadata": {
  "kernelspec": {
   "display_name": "Python 2, Gavin",
   "language": "python",
   "name": "python2"
  },
  "language_info": {
   "codemirror_mode": {
    "name": "ipython",
    "version": 2
   },
   "file_extension": ".py",
   "mimetype": "text/x-python",
   "name": "python",
   "nbconvert_exporter": "python",
   "pygments_lexer": "ipython2",
   "version": "2.7.11"
  }
 },
 "nbformat": 4,
 "nbformat_minor": 0
}
