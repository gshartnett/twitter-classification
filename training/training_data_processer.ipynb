{
 "cells": [
  {
   "cell_type": "code",
   "execution_count": 1,
   "metadata": {
    "collapsed": true
   },
   "outputs": [],
   "source": [
    "## The goal of this notebook is process the training data tweets,\n",
    "## putting them into a form that can be used by a classification algorithm"
   ]
  },
  {
   "cell_type": "code",
   "execution_count": 2,
   "metadata": {
    "collapsed": true
   },
   "outputs": [],
   "source": [
    "## import necessary libraries\n",
    "import os\n",
    "import sys\n",
    "import json\n",
    "import csv\n",
    "import pandas as pd\n",
    "import numpy as np\n",
    "from collections import Counter\n",
    "import random\n",
    "import math\n",
    "import nltk\n",
    "from nltk.corpus import stopwords\n",
    "from prettytable import PrettyTable\n",
    "import matplotlib.pyplot as plt\n",
    "import gc\n",
    "\n",
    "## garbage collection\n",
    "gc.collect();\n",
    "\n",
    "## load the dataframe of (mostly) raw tweets\n",
    "input_file = '../../tweet_data/training_data/training_data_unprocessed.pkl'\n",
    "output_file = '../../tweet_data/training_data/training_data_processed.pkl'\n",
    "output_file_cv = '../../tweet_data/training_data/training_data_cv_processed.pkl'\n",
    "df = pd.read_pickle(input_file)"
   ]
  },
  {
   "cell_type": "code",
   "execution_count": 3,
   "metadata": {
    "collapsed": false
   },
   "outputs": [
    {
     "name": "stdout",
     "output_type": "stream",
     "text": [
      "initial number of tweets: 25977\n",
      "  number of neutral tweets: 4336, 16.6916888016%\n",
      "  number of positive tweets: 10781, 41.5020980098%\n",
      "  number of negative tweets: 10860, 41.8062131886%\n"
     ]
    }
   ],
   "source": [
    "## take fraction of the data and scramble it\n",
    "frac = 0.01\n",
    "df = df.iloc[random.sample(range(0, len(df)), int(math.floor(frac*len(df))))]\n",
    "df = df.reset_index(drop=True)\n",
    "\n",
    "## print out some basic initial statistics\n",
    "print 'initial number of tweets: ' + str(len(df))\n",
    "print '  number of neutral tweets: ' + str(sum(df['sentiment']==0)) + ', ' + str(float(sum(df['sentiment']==0))/len(df)*100) + '%'\n",
    "print '  number of positive tweets: ' + str(sum(df['sentiment']==1)) + ', ' + str(float(sum(df['sentiment']==1))/len(df)*100) + '%'\n",
    "print '  number of negative tweets: ' + str(sum(df['sentiment']==-1)) + ', ' + str(float(sum(df['sentiment']==-1))/len(df)*100) + '%'\n",
    "\n",
    "if sum(df['sentiment']==-1) + sum(df['sentiment']==0) + sum(df['sentiment']==1) != len(df):\n",
    "  print 'Not all tweets classified as 1,0,-1!'"
   ]
  },
  {
   "cell_type": "code",
   "execution_count": 4,
   "metadata": {
    "collapsed": false
   },
   "outputs": [
    {
     "name": "stdout",
     "output_type": "stream",
     "text": [
      "duplicates deleted: 1\n",
      "current number of tweets: 25976\n"
     ]
    }
   ],
   "source": [
    "## delete the duplicates\n",
    "Noriginal = len(df)\n",
    "df = df.drop_duplicates(subset='id', keep='last')\n",
    "print 'duplicates deleted: ' + str(Noriginal - len(df))\n",
    "df = df.reset_index(drop=True)\n",
    "print 'current number of tweets: ' + str(len(df))"
   ]
  },
  {
   "cell_type": "code",
   "execution_count": 5,
   "metadata": {
    "collapsed": false
   },
   "outputs": [
    {
     "name": "stdout",
     "output_type": "stream",
     "text": [
      "number of retweets deleted: 7261\n"
     ]
    }
   ],
   "source": [
    "## delete the retweets\n",
    "print 'number of retweets deleted: ' + str(sum(list(df['retweet'])))\n",
    "df = df[[not i for i in list(df['retweet'])]]"
   ]
  },
  {
   "cell_type": "code",
   "execution_count": 6,
   "metadata": {
    "collapsed": false
   },
   "outputs": [
    {
     "name": "stdout",
     "output_type": "stream",
     "text": [
      "non-English tweets deleted: 60\n",
      "current number of tweets: 18655\n"
     ]
    }
   ],
   "source": [
    "## drop the non-English tweets (most dropped tweets seem to actually be English...)\n",
    "lang_drop = (df['lang']!='en')\n",
    "print 'non-English tweets deleted: ' + str(sum(lang_drop))\n",
    "df = df[list([not i for i in lang_drop])]\n",
    "df = df.reset_index(drop=True)\n",
    "print 'current number of tweets: ' + str(len(df))"
   ]
  },
  {
   "cell_type": "code",
   "execution_count": 7,
   "metadata": {
    "collapsed": false
   },
   "outputs": [],
   "source": [
    "## Preprocessing: set-up\n",
    "\n",
    "## define a preprocessing function that 1) lowers the case, 2) tokenizes into words, 3) lemmatizes\n",
    "from nltk.stem import WordNetLemmatizer\n",
    "wordnet_lemmatizer = WordNetLemmatizer()\n",
    "def preprocess(sentence):\n",
    "  return [wordnet_lemmatizer.lemmatize(word.lower()) for word in nltk.word_tokenize(sentence)]\n",
    "\n",
    "## load the list of english stop words\n",
    "stoplist = stopwords.words('english')\n",
    "\n",
    "## set-up regular expressions to delete all non a-z characters\n",
    "import re\n",
    "regex = re.compile('[^a-zA-Z]')\n",
    "\n",
    "## translation tables for dropping punctuation\n",
    "## treat apostrophes differently from things like .,!\n",
    "import string\n",
    "punctuation = string.punctuation\n",
    "punctuation_nospace = punctuation[6]\n",
    "punctuation_space = [p for p in punctuation if p not in punctuation_nospace]\n",
    "translate_table_nospace = dict((ord(char), None) for char in punctuation_nospace)   \n",
    "translate_table_space = dict((ord(char), u' ') for char in punctuation_space)\n",
    "\n",
    "## merge the tables\n",
    "translate_table = translate_table_space.copy()\n",
    "translate_table.update(translate_table_nospace) \n",
    "\n",
    "## load the list of emoticons\n",
    "import codecs\n",
    "f = codecs.open('../emoticons_positive.txt', encoding='utf-8')\n",
    "pos_emoticons = []\n",
    "for line in f:\n",
    "  pos_emoticons.append(line[0:-1])\n",
    "f = codecs.open('../emoticons_negative.txt', encoding='utf-8')\n",
    "neg_emoticons = []\n",
    "for line in f:\n",
    "  neg_emoticons.append(line[0:-1])\n",
    "all_emoticons = pos_emoticons + neg_emoticons\n",
    "ASCII_all_emoticons = [e.encode(\"ascii\",\"ignore\") for e in all_emoticons]\n",
    "\n",
    "## Preprocessing: implementation\n",
    "words = []\n",
    "new_text = []\n",
    "for i in range(len(df)):\n",
    "  text_dummy = df['text'].iloc[i]\n",
    "\n",
    "  ## tokenize positive and negative emoticons\n",
    "  ## also pad the token with spaces to catch even embedded tweets such as 'lame:('\n",
    "  for j in range(len(pos_emoticons)):\n",
    "    text_dummy = text_dummy.replace(pos_emoticons[j], ' posemoticontoken' + ' ')\n",
    "  for j in range(len(neg_emoticons)):\n",
    "    text_dummy = text_dummy.replace(neg_emoticons[j], ' negemoticontoken' + ' ')\n",
    "  \n",
    "  ## tokenize handles, hashtags, and url's\n",
    "  text_dummy = text_dummy.replace('@', ' usernametoken') #this catches the '.@XXX' trick\n",
    "  text_dummy = text_dummy.replace('#', ' hashtagtoken')\n",
    "  while 'https://' in text_dummy:\n",
    "    text_dummy = text_dummy[:text_dummy.index('https://')] +' urltoken ' + text_dummy[text_dummy.index('https://')+23:]\n",
    "  while 'http://' in text_dummy:\n",
    "    text_dummy = text_dummy[:text_dummy.index('http://')] +' urltoken ' + text_dummy[text_dummy.index('http://')+22:]\n",
    "  \n",
    "  ## replace html entities with space (note: 'and' is a stopword and so is dropped, so no need to treat & special)\n",
    "  html_entities = [u'&nbsp;', u'&lt;', u'&gt;', u'&amp;', u'&quot;', u'&apos;', u'&cent;', u'&pound;', u'&yen;', u'&euro;', u'&copy;', u'&reg;']\n",
    "  for html in html_entities:\n",
    "    text_dummy = text_dummy.replace(html, '')\n",
    "  \n",
    "  ## drop punctuation, tokenize into words, lower the case, and lemmatize\n",
    "  text_dummy = text_dummy.translate(translate_table)\n",
    "  words_dummy = preprocess(text_dummy)\n",
    "\n",
    "  ## remove stop words\n",
    "  words_dummy = [w for w in words_dummy if not w in stoplist]\n",
    "  \n",
    "  ## anonymize the username_tokens\n",
    "  for j in range(len(words_dummy)):\n",
    "    if words_dummy[j][0:13] == 'usernametoken':\n",
    "      words_dummy[j] = 'usernametoken'\n",
    "\n",
    "  ## remove numbers\n",
    "  words_dummy = [regex.sub('', w) for w in words_dummy if len(regex.sub('', w)) > 0]\n",
    "  \n",
    "  ## make a new sentence for easy vectorized manipulations\n",
    "  words.append(words_dummy)\n",
    "  new_text.append(\" \".join(words_dummy))\n",
    "df['words'] = words\n",
    "df['new_text'] = new_text"
   ]
  },
  {
   "cell_type": "code",
   "execution_count": 8,
   "metadata": {
    "collapsed": false
   },
   "outputs": [
    {
     "name": "stdout",
     "output_type": "stream",
     "text": [
      "tweets to be dropped: 594, 3.18413294023%\n",
      "  neutral tweets to be dropped: 24, 0.662251655629%\n",
      "  positive tweets to be dropped: 470, 6.8553092182%\n",
      "  negative tweets to be dropped: 100, 1.22324159021%\n"
     ]
    }
   ],
   "source": [
    "## Refine sentiment assignment\n",
    "\n",
    "## drop the tweets containing the wrong emoticon tokens\n",
    "neutral_drop1 = (df['sentiment']==0) & (df['new_text'].str.contains('posemoticontoken'))\n",
    "neutral_drop2 = (df['sentiment']==0) & (df['new_text'].str.contains('negemoticontoken'))\n",
    "pos_drop1 = (df['sentiment']==1) & (df['new_text'].str.contains('negemoticontoken'))\n",
    "neg_drop1 = (df['sentiment']==-1) & (df['new_text'].str.contains('posemoticontoken'))\n",
    "\n",
    "## drop any positive/negative tweets not containing the appropriate emoticon token\n",
    "## there are much more positive tweets dropped b/c :P was returned in the search query for :)\n",
    "pos_drop2 = (df['sentiment']==1) & (df['new_text'].str.contains('posemoticontoken')==False)\n",
    "neg_drop2 = (df['sentiment']==-1) & (df['new_text'].str.contains('negemoticontoken')==False)\n",
    "\n",
    "droplist = list(neutral_drop1|neutral_drop2|pos_drop1|pos_drop2|neg_drop1|neg_drop2)\n",
    "not_droplist = [not i for i in droplist]\n",
    "print 'tweets to be dropped: ' + str(sum(droplist)) + ', ' + str(100*float(sum(droplist))/len(df)) + '%'\n",
    "print '  neutral tweets to be dropped: ' + str(sum(list(neutral_drop1|neutral_drop2))) + ', ' + str(100*float(sum(list(neutral_drop1|neutral_drop2)))/sum(df['sentiment']==0)) + '%'\n",
    "print '  positive tweets to be dropped: ' + str(sum(list(pos_drop1|pos_drop2))) + ', ' + str(100*float(sum(list(pos_drop1|pos_drop2)))/sum(df['sentiment']==1)) + '%'\n",
    "print '  negative tweets to be dropped: ' + str(sum(list(neg_drop1|neg_drop2))) + ', ' + str(100*float(sum(list(neg_drop1|neg_drop2)))/sum(df['sentiment']==-1)) + '%'\n",
    "df = df[list(not_droplist)]\n",
    "df = df.reset_index(drop=True)\n",
    "\n",
    "## drop 'new_text' to avoid mistakes as I continue to process 'words'\n",
    "df.drop('new_text', axis=1, inplace=True)"
   ]
  },
  {
   "cell_type": "code",
   "execution_count": 9,
   "metadata": {
    "collapsed": false
   },
   "outputs": [
    {
     "name": "stdout",
     "output_type": "stream",
     "text": [
      "before dropping:\n",
      "avg. positive emoticons per positive tweet: 1.04791731914\n",
      "avg. negative emoticons per negative tweet: 1.0386377709\n",
      "dropped 95.0369872226% of emoticons\n"
     ]
    }
   ],
   "source": [
    "## emoticon statistics\n",
    "pos_emoticon_counter = 0\n",
    "neg_emoticon_counter = 0\n",
    "for i in range(len(df)):\n",
    "  if df['sentiment'].iloc[i] == 1:\n",
    "    pos_emoticon_counter += Counter(df['words'].iloc[i])['posemoticontoken']\n",
    "  if df['sentiment'].iloc[i] == -1:\n",
    "    neg_emoticon_counter += Counter(df['words'].iloc[i])['negemoticontoken']\n",
    "\n",
    "print 'before dropping:'\n",
    "print 'avg. positive emoticons per positive tweet:', float(pos_emoticon_counter)/sum(df['sentiment']==1)\n",
    "print 'avg. negative emoticons per negative tweet:', float(neg_emoticon_counter)/sum(df['sentiment']==-1)\n",
    "\n",
    "## throw away some fraction (to be treated as a hyperparameter) of the emoticons\n",
    "## probably should treat +/- differently, for now let's treat as the same\n",
    "pThreshold = 0.05 #fraction to keep\n",
    "emoticoncounter = 0\n",
    "droppedcounter = 0\n",
    "for i in range(len(df)):\n",
    "  for w in df['words'].iloc[i]:\n",
    "    if w == 'posemoticontoken' or w == 'negemoticontoken':\n",
    "      emoticoncounter += 1\n",
    "      if random.random() > pThreshold:\n",
    "        df['words'].iloc[i].remove(w)\n",
    "        droppedcounter += 1\n",
    "print 'dropped ' + str(100*float(droppedcounter)/emoticoncounter) + '% of emoticons'"
   ]
  },
  {
   "cell_type": "code",
   "execution_count": 10,
   "metadata": {
    "collapsed": false
   },
   "outputs": [
    {
     "name": "stdout",
     "output_type": "stream",
     "text": [
      "training data set size: 16255\n",
      "cv data set size: 1806\n"
     ]
    }
   ],
   "source": [
    "## split off a CV set\n",
    "## split off a separate cv set from the training data (we already shuffled the data)\n",
    "cvratio = 0.1 # fraction to split off\n",
    "df_cv = df.copy(deep=True)\n",
    "df_cv = df_cv.iloc[:int(math.floor(cvratio*len(df)))]\n",
    "df_cv = df_cv.reset_index(drop=True)\n",
    "df = df.iloc[int(math.floor(cvratio*len(df))):]\n",
    "df = df.reset_index(drop=True)\n",
    "\n",
    "print 'training data set size:', len(df)\n",
    "print 'cv data set size:', + len(df_cv)"
   ]
  },
  {
   "cell_type": "code",
   "execution_count": 11,
   "metadata": {
    "collapsed": false
   },
   "outputs": [],
   "source": [
    "## convert the list of words to a list of word ranks\n",
    "words_tot = [item for sublist in df['words'] for item in sublist]\n",
    "count = Counter(words_tot).most_common()\n",
    "words_unique = [count[i][0] for i in range(len(count))]\n",
    "words_frequencies = [count[i][1] for i in range(len(count))]\n",
    "\n",
    "def word_to_rank(x):\n",
    "  return sorted([ words_unique.index(w) for w in x if w in words_unique])\n",
    "\n",
    "df['word_ranks'] = df['words'].map(word_to_rank)\n",
    "df_cv['word_ranks'] = df_cv['words'].map(word_to_rank)"
   ]
  },
  {
   "cell_type": "code",
   "execution_count": 13,
   "metadata": {
    "collapsed": false
   },
   "outputs": [
    {
     "name": "stdout",
     "output_type": "stream",
     "text": [
      "number of tweets: 16255\n",
      "  number of neutral tweets: 3234, 19.8954167948%\n",
      "  number of positive tweets: 5749, 35.3675792064%\n",
      "  number of negative tweets: 7272, 44.7370039988%\n",
      "\n",
      "training set statistics:\n",
      "  total number of words: 119244\n",
      "  total number of unique words: 18296\n",
      "  lexical diversity: 0.153433296434\n",
      "\n",
      "\n",
      "+------------------+-------+\n",
      "| Word             | Count |\n",
      "+------------------+-------+\n",
      "| usernametoken    | 10875 |\n",
      "| urltoken         |  6751 |\n",
      "| im               |  1151 |\n",
      "| u                |   783 |\n",
      "| thanks           |   780 |\n",
      "| want             |   650 |\n",
      "| wa               |   647 |\n",
      "| get              |   638 |\n",
      "| like             |   624 |\n",
      "| love             |   551 |\n",
      "| dont             |   525 |\n",
      "| day              |   510 |\n",
      "| miss             |   509 |\n",
      "| one              |   503 |\n",
      "| negemoticontoken |   476 |\n",
      "| good             |   472 |\n",
      "| happy            |   458 |\n",
      "| much             |   450 |\n",
      "| know             |   434 |\n",
      "| great            |   420 |\n",
      "+------------------+-------+\n"
     ]
    },
    {
     "data": {
      "image/png": "[encoded data removed]",
      "text/plain": [
       "<matplotlib.figure.Figure at 0x7f6f1880b6d0>"
      ]
     },
     "metadata": {},
     "output_type": "display_data"
    },
    {
     "data": {
      "image/png": "[encoded data removed]",
      "text/plain": [
       "<matplotlib.figure.Figure at 0x7f6f1e2cd790>"
      ]
     },
     "metadata": {},
     "output_type": "display_data"
    }
   ],
   "source": [
    "## print out some preliminary statistics\n",
    "\n",
    "print 'number of tweets: ' + str(len(df))\n",
    "print '  number of neutral tweets: ' + str(sum(df['sentiment']==0)) + ', ' + str(float(sum(df['sentiment']==0))/len(df)*100) + '%'\n",
    "print '  number of positive tweets: ' + str(sum(df['sentiment']==1)) + ', ' + str(float(sum(df['sentiment']==1))/len(df)*100) + '%'\n",
    "print '  number of negative tweets: ' + str(sum(df['sentiment']==-1)) + ', ' + str(float(sum(df['sentiment']==-1))/len(df)*100) + '%'\n",
    "\n",
    "if sum(df['sentiment']==-1) + sum(df['sentiment']==0) + sum(df['sentiment']==1) != len(df):\n",
    "  print 'Warning: not all tweets classified as 1,0,-1!'\n",
    "\n",
    "## lexical diversity\n",
    "def lexical_diversity(tokens):\n",
    "    return 1.0*len(set(tokens))/len(tokens) \n",
    "\n",
    "print '\\ntraining set statistics:'\n",
    "print '  total number of words:', len(words_tot)\n",
    "print '  total number of unique words:', len(words_unique)\n",
    "print '  lexical diversity:', lexical_diversity(words_tot)\n",
    "\n",
    "## examine word frequencies\n",
    "print '\\n'\n",
    "pt = PrettyTable(field_names=['Word', 'Count']) \n",
    "[ pt.add_row(kv) for kv in count[:20] ]\n",
    "pt.align['Word'], pt.align['Count'] = 'l', 'r' #set column alignment\n",
    "print pt\n",
    "\n",
    "## get a sense for the frequency distribution of words\n",
    "## what % of words occur with frequency <= x\n",
    "maxwordfreq = [100.0*c*words_frequencies.count(c)/len(words_tot) for c in range(1,50)]\n",
    "for i in range(1,len(maxwordfreq)):\n",
    "  maxwordfreq[i] += maxwordfreq[i-1]\n",
    "%matplotlib inline\n",
    "plt.plot(maxwordfreq, c='black')\n",
    "plt.ylabel('percent of words', fontsize=20)\n",
    "plt.xlabel('max word frequency', fontsize=20)\n",
    "plt.savefig('../figures/training_percentofwords.png')\n",
    "plt.show()\n",
    "\n",
    "## plot frequency(rank)\n",
    "words_tot_counts = sorted(Counter(words_tot).values(), reverse=True)\n",
    "plt.loglog(words_tot_counts, c='black')\n",
    "plt.ylabel('frequency', fontsize=20)\n",
    "plt.xlabel('word rank', fontsize=20)\n",
    "plt.savefig('../figures/training_frequencyrank.png')\n",
    "plt.show()"
   ]
  },
  {
   "cell_type": "code",
   "execution_count": 14,
   "metadata": {
    "collapsed": false
   },
   "outputs": [],
   "source": [
    "## save the processed data\n",
    "df_final = df.copy(deep=True)\n",
    "df_final = df_final.drop([l for l in list(df.columns.values) if l not in ['sentiment','words','word_ranks']], axis=1)\n",
    "df_final.to_pickle(output_file)\n",
    "\n",
    "df_cv_final = df_cv.copy(deep=True)\n",
    "df_cv_final = df_cv_final.drop([l for l in list(df.columns.values) if l not in ['sentiment','words','word_ranks']], axis=1)\n",
    "df_cv_final.to_pickle(output_file_cv)"
   ]
  },
  {
   "cell_type": "code",
   "execution_count": null,
   "metadata": {
    "collapsed": true
   },
   "outputs": [],
   "source": []
  },
  {
   "cell_type": "code",
   "execution_count": null,
   "metadata": {
    "collapsed": true
   },
   "outputs": [],
   "source": []
  }
 ],
 "metadata": {
  "kernelspec": {
   "display_name": "Python 2, Gavin",
   "language": "python",
   "name": "python2"
  },
  "language_info": {
   "codemirror_mode": {
    "name": "ipython",
    "version": 2
   },
   "file_extension": ".py",
   "mimetype": "text/x-python",
   "name": "python",
   "nbconvert_exporter": "python",
   "pygments_lexer": "ipython2",
   "version": "2.7.11"
  }
 },
 "nbformat": 4,
 "nbformat_minor": 0
}
