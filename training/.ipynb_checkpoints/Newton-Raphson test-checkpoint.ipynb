{
 "cells": [
  {
   "cell_type": "code",
   "execution_count": 1,
   "metadata": {
    "collapsed": true
   },
   "outputs": [],
   "source": [
    "## test the Newton-Raphson method"
   ]
  },
  {
   "cell_type": "code",
   "execution_count": 20,
   "metadata": {
    "collapsed": false
   },
   "outputs": [],
   "source": [
    "## import necessary libraries\n",
    "import matplotlib.pyplot as plt\n",
    "import numpy as np\n",
    "import pandas as pd\n",
    "import math\n",
    "import random\n",
    "import os\n",
    "import scipy.sparse\n",
    "import gc\n",
    "import time\n",
    "\n",
    "## display plots inline\n",
    "%matplotlib inline"
   ]
  },
  {
   "cell_type": "code",
   "execution_count": 21,
   "metadata": {
    "collapsed": true
   },
   "outputs": [],
   "source": [
    "## multi-variate extrema finder\n",
    "\n",
    "def func(x):\n",
    "  return sum(x*x - x**4)\n",
    "\n",
    "def dfunc(x):\n",
    "  return 2*x - 4*x**3\n",
    "\n",
    "def jacob(x):\n",
    "  return 2*np.identity(len(x)) - 12*x**2*np.identity(len(x))"
   ]
  },
  {
   "cell_type": "code",
   "execution_count": 22,
   "metadata": {
    "collapsed": true
   },
   "outputs": [],
   "source": [
    "## with matrix inversion\n",
    "def NR_inv(x, TOL, max_count):\n",
    "  counter = 0\n",
    "  while sum(np.abs(dfunc(x)))/len(x) > TOL and counter < max_count:\n",
    "    x = x - np.dot(np.linalg.inv(jacob(x)), dfunc(x))\n",
    "    counter += 1\n",
    "    if counter >= max_count:\n",
    "      reason = 'reached max iterations'\n",
    "    if sum(np.abs(dfunc(x)))/len(x) <= TOL:\n",
    "      reason = 'converged'\n",
    "  return [x, reason]\n",
    "\n",
    "## with linear solve\n",
    "def NR_ls(x, TOL, max_count):\n",
    "  counter = 0\n",
    "  while sum(np.abs(dfunc(x)))/len(x) > TOL and counter < max_count:\n",
    "    delta_x = np.linalg.solve(jacob(x), dfunc(x))\n",
    "    x = x - delta_x \n",
    "    counter += 1\n",
    "    if counter >= max_count:\n",
    "      reason = 'reached max iterations'\n",
    "    if sum(np.abs(dfunc(x)))/len(x) <= TOL:\n",
    "      reason = 'converged'\n",
    "  return [x, reason]"
   ]
  },
  {
   "cell_type": "code",
   "execution_count": 65,
   "metadata": {
    "collapsed": false
   },
   "outputs": [
    {
     "name": "stdout",
     "output_type": "stream",
     "text": [
      "converged\n",
      "[0.90752767368616372, -2.6620247611909775]\n"
     ]
    },
    {
     "data": {
      "image/png": "[encoded data removed]",
      "text/plain": [
       "<matplotlib.figure.Figure at 0x7fb9c21bcf50>"
      ]
     },
     "metadata": {},
     "output_type": "display_data"
    }
   ],
   "source": [
    "Ndim_max = 2000 \n",
    "Ndim_increment = 5\n",
    "\n",
    "time_list = []\n",
    "for Ndim in range(5, Ndim_max, Ndim_increment):\n",
    "  np.random.seed(Ndim)\n",
    "  x = np.random.uniform(0, 0.2, Ndim)\n",
    "  start_time = time.clock()\n",
    "  NR_ls(x, 1e-10, 100)\n",
    "  time_list.append(time.clock() - start_time)\n",
    "  \n",
    "print NR_ls(x, 1e-10, 100)[-1]\n",
    "\n",
    "plt.plot(np.log10(range(5, Ndim_max, Ndim_increment)), np.log10(time_list))\n",
    "\n",
    "#m,b = np.polyfit(np.log10(range(5, Ndim_max, Ndim_increment))[-50:], (np.log10(time_list))[-50:], 1)\n",
    "#print [m, b]"
   ]
  },
  {
   "cell_type": "code",
   "execution_count": 69,
   "metadata": {
    "collapsed": false
   },
   "outputs": [
    {
     "name": "stdout",
     "output_type": "stream",
     "text": [
      "converged\n",
      "[1.5018422317013065, -4.376927394010047]\n"
     ]
    },
    {
     "data": {
      "image/png": "[encoded data removed]",
      "text/plain": [
       "<matplotlib.figure.Figure at 0x7fb9c2541250>"
      ]
     },
     "metadata": {},
     "output_type": "display_data"
    }
   ],
   "source": [
    "Ndim_max = 750\n",
    "Ndim_increment = 5\n",
    "\n",
    "time_list = []\n",
    "for Ndim in range(5, Ndim_max, Ndim_increment):\n",
    "  np.random.seed(Ndim)\n",
    "  x = np.random.uniform(0, 0.2, Ndim)\n",
    "  start_time = time.clock()\n",
    "  NR_inv(x, 1e-10, 100)\n",
    "  time_list.append(time.clock() - start_time)\n",
    "  \n",
    "print NR_ls(x, 1e-10, 100)[-1]\n",
    "\n",
    "plt.plot(np.log10(range(5, Ndim_max, Ndim_increment)), np.log10(time_list))\n",
    "\n",
    "#m,b = np.polyfit(np.log10(range(5, Ndim_max, Ndim_increment))[-3:], (np.log10(time_list))[-3:], 1)\n",
    "#print [m, b]"
   ]
  },
  {
   "cell_type": "code",
   "execution_count": 74,
   "metadata": {
    "collapsed": false
   },
   "outputs": [
    {
     "name": "stdout",
     "output_type": "stream",
     "text": [
      "converged\n"
     ]
    }
   ],
   "source": [
    "Ndim = 6000\n",
    "np.random.seed(Ndim)\n",
    "x = np.random.uniform(0, 0.2, Ndim)\n",
    "print NR_ls(x, 1e-10, 100)[-1]"
   ]
  },
  {
   "cell_type": "code",
   "execution_count": null,
   "metadata": {
    "collapsed": true
   },
   "outputs": [],
   "source": [
    "## the number of parameters in my MaxEnt model are 200,000"
   ]
  }
 ],
 "metadata": {
  "kernelspec": {
   "display_name": "Python 2, Gavin",
   "language": "python",
   "name": "python2"
  },
  "language_info": {
   "codemirror_mode": {
    "name": "ipython",
    "version": 2
   },
   "file_extension": ".py",
   "mimetype": "text/x-python",
   "name": "python",
   "nbconvert_exporter": "python",
   "pygments_lexer": "ipython2",
   "version": "2.7.11"
  }
 },
 "nbformat": 4,
 "nbformat_minor": 0
}
