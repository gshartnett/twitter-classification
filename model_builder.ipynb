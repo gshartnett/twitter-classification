{
 "cells": [
  {
   "cell_type": "code",
   "execution_count": null,
   "metadata": {
    "collapsed": true
   },
   "outputs": [],
   "source": [
    "## The goal of this notebook is build two models, Naive Bayes and Maximum Entropy, \n",
    "## and to compare their performances on various CV data sets"
   ]
  },
  {
   "cell_type": "code",
   "execution_count": 3,
   "metadata": {
    "collapsed": false
   },
   "outputs": [
    {
     "name": "stdout",
     "output_type": "stream",
     "text": [
      "training data set size: 16255\n",
      "training-cv data set size: 1806\n",
      "Sanders anlaytics (SA) cv data set size: 2624\n",
      "Sentiment 140 (S140) cv data set size: 497\n"
     ]
    }
   ],
   "source": [
    "## import necessary libraries\n",
    "import matplotlib.pyplot as plt\n",
    "import numpy as np\n",
    "import pandas as pd\n",
    "import math\n",
    "import random\n",
    "import os\n",
    "import nltk\n",
    "from nltk.corpus import stopwords\n",
    "from nltk.stem import WordNetLemmatizer\n",
    "import re\n",
    "import string\n",
    "from collections import Counter\n",
    "import scipy.sparse\n",
    "from prettytable import PrettyTable\n",
    "import gc\n",
    "\n",
    "## display plots inline\n",
    "%matplotlib inline\n",
    "\n",
    "## load the processed training-set tweets\n",
    "df = pd.read_pickle('../tweet_data/training_data/training_data_processed.pkl')\n",
    "df_cv = pd.read_pickle('../tweet_data/training_data/training_data_cv_processed.pkl')\n",
    "\n",
    "## load the processed cv-set tweets\n",
    "df_sa_cv = pd.read_pickle('../tweet_data/cv_data/sanders_analytics/sanders_analytics_cv_data_processed.pkl')\n",
    "df_s140_cv = pd.read_pickle('../tweet_data/cv_data/sentiment140/sentiment140_cv_data_processed.pkl')\n",
    "\n",
    "print 'training data set size:', len(df)\n",
    "print 'training-cv data set size:', + len(df_cv)\n",
    "print 'Sanders anlaytics (SA) cv data set size:', len(df_sa_cv)\n",
    "print 'Sentiment 140 (S140) cv data set size:', len(df_s140_cv)"
   ]
  },
  {
   "cell_type": "code",
   "execution_count": 4,
   "metadata": {
    "collapsed": false
   },
   "outputs": [
    {
     "name": "stdout",
     "output_type": "stream",
     "text": [
      "training emoticon fractions: [0.06545654565456546, 0.06644633849365107]\n",
      "training-CV emoticon fractions: [0.062266500622665005, 0.061224489795918366]\n",
      "SA CV emoticon fractions: [0.024282560706401765, 0.05089058524173028]\n",
      "S140 CV emoticon fractions: [0.06779661016949153, 0.11049723756906077]\n"
     ]
    }
   ],
   "source": [
    "## some useful functions\n",
    "\n",
    "## sentiment statistics\n",
    "def sentiment_stats(DF):\n",
    "  return [1.0*sum(DF['sentiment']==-1)/len(DF), 1.0*sum(DF['sentiment']==0)/len(DF), 1.0*sum(DF['sentiment']==1)/len(DF)]\n",
    "\n",
    "## emoticon statistics\n",
    "def emoticon_stats(DF):\n",
    "  neg_emoticon_counter = 0\n",
    "  pos_emoticon_counter = 0\n",
    "  for i in range(len(DF)):\n",
    "    if DF['sentiment'].iloc[i] == -1:\n",
    "      neg_emoticon_counter += Counter(DF['words'].iloc[i])['negemoticontoken']\n",
    "    if DF['sentiment'].iloc[i] == 1:\n",
    "      pos_emoticon_counter += Counter(DF['words'].iloc[i])['posemoticontoken']\n",
    "  return [float(neg_emoticon_counter)/sum(DF['sentiment']==-1), float(pos_emoticon_counter)/sum(DF['sentiment']==1)]\n",
    "\n",
    "print 'training emoticon fractions:', emoticon_stats(df)\n",
    "print 'training-CV emoticon fractions:', emoticon_stats(df_cv)\n",
    "print 'SA CV emoticon fractions:', emoticon_stats(df_sa_cv)\n",
    "print 'S140 CV emoticon fractions:', emoticon_stats(df_s140_cv)"
   ]
  },
  {
   "cell_type": "code",
   "execution_count": 5,
   "metadata": {
    "collapsed": false
   },
   "outputs": [
    {
     "name": "stdout",
     "output_type": "stream",
     "text": [
      "done with df_cv\n",
      "done with df_sa_cv\n",
      "done with df_s140_cv\n"
     ]
    }
   ],
   "source": [
    "## build the bag of words\n",
    "ranks_tot = [item for sublist in df['word_ranks'] for item in sublist]\n",
    "ranks_tot_neg = [item for sublist in df['word_ranks'][df['sentiment'] == -1] for item in sublist]\n",
    "ranks_tot_neutral = [item for sublist in df['word_ranks'][df['sentiment'] == 0] for item in sublist]\n",
    "ranks_tot_pos = [item for sublist in df['word_ranks'][df['sentiment'] == 1] for item in sublist]\n",
    "counter = Counter(ranks_tot)\n",
    "counter_neg = Counter(ranks_tot_neg)\n",
    "counter_neutral = Counter(ranks_tot_neutral)\n",
    "counter_pos = Counter(ranks_tot_pos)\n",
    "max_rank = max(ranks_tot)+1\n",
    "\n",
    "## put the CV sets into word rank form\n",
    "words_tot = [item for sublist in df['words'] for item in sublist]\n",
    "count = Counter(words_tot).most_common()\n",
    "words_unique = [count[i][0] for i in range(len(count))]\n",
    "words_frequencies = [count[i][1] for i in range(len(count))]\n",
    "\n",
    "def word_to_rank(x):\n",
    "  return sorted([ words_unique.index(w) for w in x if w in words_unique])\n",
    "\n",
    "df_cv['word_ranks'] = df_cv['words'].map(word_to_rank)\n",
    "print 'done with df_cv'\n",
    "df_sa_cv['word_ranks'] = df_sa_cv['words'].map(word_to_rank)\n",
    "print 'done with df_sa_cv'\n",
    "df_s140_cv['word_ranks'] = df_s140_cv['words'].map(word_to_rank)\n",
    "print 'done with df_s140_cv'"
   ]
  },
  {
   "cell_type": "code",
   "execution_count": 6,
   "metadata": {
    "collapsed": false
   },
   "outputs": [
    {
     "name": "stdout",
     "output_type": "stream",
     "text": [
      "1\n",
      "[u'wa', u'talking', u'guy', u'last', u'night', u'wa', u'telling', u'die', u'hard', u'spur', u'fan', u'also', u'told', u'hate', u'lebron', u'james']\n",
      "[6, 6, 78, 86, 96, 101, 154, 161, 218, 331, 530, 548, 1448, 1787, 4805]\n",
      "want\n",
      "even\n"
     ]
    }
   ],
   "source": [
    "## example for blog write-up\n",
    "print len(df_s140_cv['words'].iloc[15]) - len(df_s140_cv['word_ranks'].iloc[15])\n",
    "print df_s140_cv['words'].iloc[15] \n",
    "print df_s140_cv['word_ranks'].iloc[15]\n",
    "print words_unique[5]\n",
    "print words_unique[70]"
   ]
  },
  {
   "cell_type": "code",
   "execution_count": 7,
   "metadata": {
    "collapsed": false
   },
   "outputs": [
    {
     "name": "stdout",
     "output_type": "stream",
     "text": [
      "Naive Bayes Performance:\n",
      "+-------------+----------+--------------+--------------+--------------+\n",
      "|    CV set   | accuracy | (-) accuracy | (0) accuracy | (+) accuracy |\n",
      "+-------------+----------+--------------+--------------+--------------+\n",
      "| training CV |   72.7   |    83.56     |    69.95     |     60.6     |\n",
      "|    SA CV    |  42.04   |    64.68     |    34.81     |     48.6     |\n",
      "|   S140 CV   |  61.37   |    76.84     |    42.45     |    60.77     |\n",
      "+-------------+----------+--------------+--------------+--------------+\n"
     ]
    }
   ],
   "source": [
    "################################################################\n",
    "## Naive Bayes classifier\n",
    "\n",
    "##re-think Laplace smoothing now that I'm ignoring new words in cv set\n",
    "\n",
    "## priors\n",
    "prior_neg = float(sum(df['sentiment']==-1))/len(df)\n",
    "prior_neutral = float(sum(df['sentiment']==0))/len(df)\n",
    "prior_pos = float(sum(df['sentiment']==1))/len(df)\n",
    "\n",
    "## conditional probabilities of word given class (with Laplace smoothing parameter alpha)\n",
    "alpha = 1 # Laplace smoothing parameter\n",
    "def p_rank_given_neg(rank):\n",
    "  return float(counter_neg[rank] + alpha)/(len(ranks_tot_neg) + alpha*len(ranks_tot))\n",
    "def p_rank_given_neutral(rank):\n",
    "  return float(counter_neutral[rank] + alpha)/(len(ranks_tot_neutral) + alpha*len(ranks_tot))\n",
    "def p_rank_given_pos(rank):\n",
    "  return float(counter_pos[rank] + alpha)/(len(ranks_tot_pos) + alpha*len(ranks_tot))\n",
    "\n",
    "## class prediction\n",
    "def NB_predict(rank_list):\n",
    "  p_neg = math.log(prior_neg) + sum([math.log(p_rank_given_neg(i)) for i in rank_list])\n",
    "  p_neutral = math.log(prior_neutral) + sum([math.log(p_rank_given_neutral(i)) for i in rank_list])\n",
    "  p_pos = math.log(prior_pos) + sum([math.log(p_rank_given_pos(i)) for i in rank_list])\n",
    "  return -1 + [p_neg, p_neutral, p_pos].index(max([p_neg, p_neutral, p_pos]))\n",
    "\n",
    "df_cv['NB predictions'] = df_cv['word_ranks'].map(NB_predict)\n",
    "df_sa_cv['NB predictions'] = df_sa_cv['word_ranks'].map(NB_predict)\n",
    "df_s140_cv['NB predictions'] = df_s140_cv['word_ranks'].map(NB_predict)\n",
    "\n",
    "## Classification error\n",
    "## training CV set\n",
    "NB_accuracy_cv = 100*float(sum(df_cv['NB predictions'] == df_cv['sentiment']))/len(df_cv)\n",
    "NB_accuracy_cv_neg = 100.0*sum(df_cv[df_cv['sentiment'] == -1]['NB predictions'] == df_cv[df_cv['sentiment'] == -1]['sentiment'])\\\n",
    "                    /len(df_cv[df_cv['sentiment'] == -1])\n",
    "NB_accuracy_cv_neutral = 100.0*sum(df_cv[df_cv['sentiment'] == 0]['NB predictions'] == df_cv[df_cv['sentiment'] == 0]['sentiment'])\\\n",
    "                    /len(df_cv[df_cv['sentiment'] == 0])\n",
    "NB_accuracy_cv_pos = 100.0*sum(df_cv[df_cv['sentiment'] == 1]['NB predictions'] == df_cv[df_cv['sentiment'] == 1]['sentiment'])\\\n",
    "                    /len(df_cv[df_cv['sentiment'] == 1])\n",
    "## SA CV set\n",
    "NB_accuracy_sa_cv = 100*float(sum(df_sa_cv['NB predictions'] == df_sa_cv['sentiment']))/len(df_sa_cv)\n",
    "NB_accuracy_sa_cv_neg = 100.0*sum(df_sa_cv[df_sa_cv['sentiment'] == -1]['NB predictions'] == df_sa_cv[df_sa_cv['sentiment'] == -1]['sentiment'])\\\n",
    "                    /len(df_sa_cv[df_sa_cv['sentiment'] == -1])\n",
    "NB_accuracy_sa_cv_neutral = 100.0*sum(df_sa_cv[df_sa_cv['sentiment'] == 0]['NB predictions'] == df_sa_cv[df_sa_cv['sentiment'] == 0]['sentiment'])\\\n",
    "                    /len(df_sa_cv[df_sa_cv['sentiment'] == 0])\n",
    "NB_accuracy_sa_cv_pos = 100.0*sum(df_sa_cv[df_sa_cv['sentiment'] == 1]['NB predictions'] == df_sa_cv[df_sa_cv['sentiment'] == 1]['sentiment'])\\\n",
    "                    /len(df_sa_cv[df_sa_cv['sentiment'] == 1])\n",
    "## S140 CV set\n",
    "NB_accuracy_s140_cv = 100*float(sum(df_s140_cv['NB predictions'] == df_s140_cv['sentiment']))/len(df_s140_cv)\n",
    "NB_accuracy_s140_cv_neg = 100.0*sum(df_s140_cv[df_s140_cv['sentiment'] == -1]['NB predictions'] == df_s140_cv[df_s140_cv['sentiment'] == -1]['sentiment'])\\\n",
    "                    /len(df_s140_cv[df_s140_cv['sentiment'] == -1])\n",
    "NB_accuracy_s140_cv_neutral = 100.0*sum(df_s140_cv[df_s140_cv['sentiment'] == 0]['NB predictions'] == df_s140_cv[df_s140_cv['sentiment'] == 0]['sentiment'])\\\n",
    "                    /len(df_s140_cv[df_s140_cv['sentiment'] == 0])\n",
    "NB_accuracy_s140_cv_pos = 100.0*sum(df_s140_cv[df_s140_cv['sentiment'] == 1]['NB predictions'] == df_s140_cv[df_s140_cv['sentiment'] == 1]['sentiment'])\\\n",
    "                    /len(df_s140_cv[df_s140_cv['sentiment'] == 1])\n",
    "\n",
    "## examine performance\n",
    "print 'Naive Bayes Performance:'\n",
    "pt = PrettyTable(field_names=['CV set', 'accuracy', '(-) accuracy', '(0) accuracy', '(+) accuracy']) \n",
    "[ pt.add_row(['training CV', round(NB_accuracy_cv, 2), round(NB_accuracy_cv_neg, 2), \\\n",
    "              round(NB_accuracy_cv_neutral, 2), round(NB_accuracy_cv_pos, 2) ])]\n",
    "\n",
    "[ pt.add_row(['SA CV', round(NB_accuracy_sa_cv, 2), round(NB_accuracy_sa_cv_neg, 2), \\\n",
    "              round(NB_accuracy_sa_cv_neutral, 2), round(NB_accuracy_sa_cv_pos, 2) ])]\n",
    "\n",
    "[ pt.add_row(['S140 CV', round(NB_accuracy_s140_cv, 2), round(NB_accuracy_s140_cv_neg, 2), \\\n",
    "              round(NB_accuracy_s140_cv_neutral, 2), round(NB_accuracy_s140_cv_pos, 2) ])]\n",
    "#pt.align['Word'], pt.align['Count'] = 'l', 'r' #set column alignment\n",
    "print pt"
   ]
  },
  {
   "cell_type": "code",
   "execution_count": 8,
   "metadata": {
    "collapsed": false
   },
   "outputs": [
    {
     "name": "stdout",
     "output_type": "stream",
     "text": [
      "sentiment                                                         0\n",
      "text              Can search the last 30 days of Gmail, whether ...\n",
      "words             [search, last, day, gmail, whether, connected,...\n",
      "word_ranks            [11, 78, 1277, 2473, 2676, 4965, 5672, 16795]\n",
      "NB predictions                                                    1\n",
      "Name: 1, dtype: object\n",
      "Can search the last 30 days of Gmail, whether connected or not. #Google #Android #ICS\n",
      "\n",
      "\n",
      "sentiment                                                         0\n",
      "text              Hm... Can't decide if I should like it or not....\n",
      "words             [hm, cant, decide, like, hashtagtokenmicrosoft...\n",
      "word_ranks                                   [1, 8, 24, 1996, 2690]\n",
      "NB predictions                                                   -1\n",
      "Name: 10, dtype: object\n",
      "Hm... Can't decide if I should like it or not... #Microsoft #OmniTouch  http://t.co/k074N0z2\n"
     ]
    }
   ],
   "source": [
    "## look at some incorrectly classified SA tweets\n",
    "print df_sa_cv[df_sa_cv['NB predictions'] != df_sa_cv['sentiment']].iloc[0]\n",
    "print df_sa_cv[df_sa_cv['NB predictions'] != df_sa_cv['sentiment']]['text'].iloc[0]\n",
    "print '\\n'\n",
    "print df_sa_cv[df_sa_cv['NB predictions'] != df_sa_cv['sentiment']].iloc[7]\n",
    "print df_sa_cv[df_sa_cv['NB predictions'] != df_sa_cv['sentiment']]['text'].iloc[7]"
   ]
  },
  {
   "cell_type": "code",
   "execution_count": 9,
   "metadata": {
    "collapsed": false
   },
   "outputs": [],
   "source": [
    "################################################################\n",
    "## MaxEnt Classifier\n",
    "\n",
    "## create the sparse feature matrices\n",
    "def feature_matrix(df):\n",
    "  feature = scipy.sparse.lil_matrix((len(df), max_rank))\n",
    "  for j in range(len(df)):\n",
    "    for i in range(len(df['word_ranks'].iloc[j])):\n",
    "      feature[j, df['word_ranks'].iloc[j][i]] += 1.0/(len(df['word_ranks'].iloc[j]))\n",
    "  return scipy.sparse.csr_matrix(feature) ## convert into csr matrix\n",
    "\n",
    "feature = feature_matrix(df)\n",
    "feature_cv = feature_matrix(df_cv)\n",
    "feature_sa_cv = feature_matrix(df_sa_cv)\n",
    "feature_s140_cv = feature_matrix(df_s140_cv)"
   ]
  },
  {
   "cell_type": "code",
   "execution_count": 10,
   "metadata": {
    "collapsed": false
   },
   "outputs": [],
   "source": [
    "## useful functions\n",
    "\n",
    "## compute the average log likelihood\n",
    "def loglike(df, feature, lambda_neg, lambda_neutral, lambda_pos):\n",
    "  ## class indicator functions\n",
    "  I_neg = np.array(df['sentiment']== -1, dtype=float)\n",
    "  I_neutral = np.array(df['sentiment']== 0, dtype=float)\n",
    "  I_pos = np.array(df['sentiment']== 1, dtype=float)\n",
    "  ## useful factors\n",
    "  flambda_neg = feature.dot(lambda_neg)\n",
    "  flambda_neutral = feature.dot(lambda_neutral)\n",
    "  flambda_pos = feature.dot(lambda_pos)\n",
    "  return (flambda_neg.dot(I_neg) + flambda_neutral.dot(I_neutral) + flambda_pos.dot(I_pos) \\\n",
    "    - sum(np.log(np.exp(flambda_neg) + np.exp(flambda_neutral) + np.exp(flambda_pos))))/len(df)\n",
    "\n",
    "## compute the gradient \n",
    "## (Note-to-self: I checked this gradient against the finite difference quantity in the Spam Filter code I wrote)\n",
    "def gradient(df, feature, lambda_neg, lambda_neutral, lambda_pos):\n",
    "  ## class indicator functions\n",
    "  I_neg = np.array(df['sentiment']== -1, dtype=float)\n",
    "  I_neutral = np.array(df['sentiment']== 0, dtype=float)\n",
    "  I_pos = np.array(df['sentiment']== 1, dtype=float)\n",
    "  ## useful factors\n",
    "  flambda_neg = feature.dot(lambda_neg)\n",
    "  flambda_neutral = feature.dot(lambda_neutral)\n",
    "  flambda_pos = feature.dot(lambda_pos)\n",
    "  ## boltzmann factors\n",
    "  boltz_neg = np.exp(flambda_neg)\n",
    "  boltz_neutral = np.exp(flambda_neutral)\n",
    "  boltz_pos = np.exp(flambda_pos)\n",
    "  ## the gradients\n",
    "  dLLdlambda_neg = feature.transpose().dot(I_neg) - feature.transpose().dot( (boltz_neg/(boltz_neg + boltz_neutral + boltz_pos) ) )\n",
    "  dLLdlambda_neutral = feature.transpose().dot(I_neutral) - feature.transpose().dot( (boltz_neutral/(boltz_neg + boltz_neutral + boltz_pos) ) )\n",
    "  dLLdlambda_pos = feature.transpose().dot(I_pos) - feature.transpose().dot( (boltz_pos/(boltz_neg + boltz_neutral + boltz_pos) ) )\n",
    "  return [dLLdlambda_neg, dLLdlambda_neutral, dLLdlambda_pos]\n",
    "\n",
    "## prediction accuracy\n",
    "def ME_predictions(df, feature, lambda_neg, lambda_neutral, lambda_pos):\n",
    "  ## useful factors\n",
    "  flambda_neg = feature.dot(lambda_neg)\n",
    "  flambda_neutral = feature.dot(lambda_neutral)\n",
    "  flambda_pos = feature.dot(lambda_pos)\n",
    "  ## boltzmann factors\n",
    "  boltz_neg = np.squeeze(np.asarray(np.exp(flambda_neg)))\n",
    "  boltz_neutral = np.squeeze(np.asarray(np.exp(flambda_neutral)))\n",
    "  boltz_pos = np.squeeze(np.asarray(np.exp(flambda_pos)))\n",
    "  predict = []\n",
    "  for i in range(len(df)):\n",
    "    p_neg = boltz_neg[i]\n",
    "    p_neutral = boltz_neutral[i]\n",
    "    p_pos = boltz_pos[i]\n",
    "    predict.append(-1 + [p_neg, p_neutral, p_pos].index(max([p_neg, p_neutral, p_pos])))\n",
    "  return predict"
   ]
  },
  {
   "cell_type": "code",
   "execution_count": 11,
   "metadata": {
    "collapsed": false
   },
   "outputs": [
    {
     "name": "stdout",
     "output_type": "stream",
     "text": [
      "training: 10% complete\n",
      "training: 20% complete\n",
      "training: 30% complete\n",
      "training: 40% complete\n",
      "training: 50% complete\n",
      "training: 60% complete\n",
      "training: 70% complete\n",
      "training: 80% complete\n",
      "training: 90% complete\n",
      "training: 100% complete\n"
     ]
    }
   ],
   "source": [
    "## Training\n",
    "\n",
    "## learning rate\n",
    "alpha = 0.001\n",
    "## evaluate log likelihood every X iterations\n",
    "m_eval = 10\n",
    "## create the vector of parameters to be learned (initialized to zero)\n",
    "lambda_neg = np.zeros(max_rank)\n",
    "lambda_neutral = np.zeros(max_rank)\n",
    "lambda_pos = np.zeros(max_rank)\n",
    "## the initial LL and accuracy for training set and cv set\n",
    "LL_history = [loglike(df, feature, lambda_neg, lambda_neutral, lambda_pos)]\n",
    "LL_cv_history = [loglike(df_cv, feature_cv, lambda_neg, lambda_neutral, lambda_pos)]\n",
    "predictions_cv_history = [100.0*sum(ME_predictions(df_cv, feature_cv, lambda_neg, lambda_neutral, lambda_pos) \\\n",
    "                                    == df_cv['sentiment'])/len(df_cv)]\n",
    "predictions_sa_cv_history = [100.0*sum(ME_predictions(df_sa_cv, feature_sa_cv, lambda_neg, lambda_neutral, lambda_pos) \\\n",
    "                                       == df_sa_cv['sentiment'])/len(df_sa_cv)]\n",
    "predictions_s140_cv_history = [100.0*sum(ME_predictions(df_s140_cv, feature_s140_cv, lambda_neg, lambda_neutral, lambda_pos) \\\n",
    "                                         == df_s140_cv['sentiment'])/len(df_s140_cv)]\n",
    "\n",
    "## gradient ascent\n",
    "Nitermax = 1000\n",
    "cond = True\n",
    "i = 0\n",
    "while cond:\n",
    "  if math.floor(10.0*(i+1)/Nitermax) > math.floor(10.0*i/Nitermax):\n",
    "    #print 'training:', str(i+1), 'out of', Nitermax\n",
    "    print 'training:', str(int(math.floor(100.0*(i+1)/Nitermax))) +'% complete'\n",
    "  ## compute the gradient\n",
    "  [dLLdlambda_neg, dLLdlambda_neutral, dLLdlambda_pos] = gradient(df, feature, lambda_neg, lambda_neutral, lambda_pos)\n",
    "  ## advance the parameters\n",
    "  lambda_neg = lambda_neg + alpha*dLLdlambda_neg\n",
    "  lambda_neutral = lambda_neutral + alpha*dLLdlambda_neutral\n",
    "  lambda_pos = lambda_pos + alpha*dLLdlambda_pos\n",
    "  ## record the log likelihood and the predictions every m_eval iterations\n",
    "  if i % m_eval == 0:\n",
    "    LL_history.append(loglike(df, feature, lambda_neg, lambda_neutral, lambda_pos))\n",
    "    LL_cv_history.append(loglike(df_cv, feature_cv, lambda_neg, lambda_neutral, lambda_pos))\n",
    "    predictions_cv_history.append(100.0*sum(ME_predictions(df_cv, feature_cv, lambda_neg, lambda_neutral, lambda_pos) \\\n",
    "                                            == df_cv['sentiment'])/len(df_cv))\n",
    "    predictions_sa_cv_history.append(100.0*sum(ME_predictions(df_sa_cv, feature_sa_cv, lambda_neg, lambda_neutral, lambda_pos) \\\n",
    "                                               == df_sa_cv['sentiment'])/len(df_sa_cv))\n",
    "    predictions_s140_cv_history.append(100.0*sum(ME_predictions(df_s140_cv, feature_s140_cv, lambda_neg, lambda_neutral, lambda_pos) \\\n",
    "                                                 == df_s140_cv['sentiment'])/len(df_s140_cv))\n",
    "  \n",
    "  i += 1\n",
    "  ## abort the training if the log likelihood increases\n",
    "  if LL_history[-1] < LL_history[-2]:\n",
    "    print 'Warning: training log likelihood not decreasing!'\n",
    "    cond = False\n",
    "  ## end the training if Nitermax is reached or if the CV log likelihood starts to increase, indicating over-fitting\n",
    "  if i >= Nitermax or LL_cv_history[-1] < LL_cv_history[-2]:\n",
    "    cond = False"
   ]
  },
  {
   "cell_type": "code",
   "execution_count": 12,
   "metadata": {
    "collapsed": false
   },
   "outputs": [
    {
     "name": "stdout",
     "output_type": "stream",
     "text": [
      "MaxEnt Performance:\n",
      "+-------------+----------+--------------+--------------+--------------+\n",
      "|    CV set   | accuracy | (-) accuracy | (0) accuracy | (+) accuracy |\n",
      "+-------------+----------+--------------+--------------+--------------+\n",
      "| training CV |  71.48   |    81.57     |    74.86     |    57.14     |\n",
      "|    SA CV    |  44.32   |    61.81     |    37.35     |    55.73     |\n",
      "|   S140 CV   |  62.78   |    72.32     |    50.36     |    62.98     |\n",
      "+-------------+----------+--------------+--------------+--------------+\n"
     ]
    },
    {
     "data": {
      "image/png": "[encoded data removed]",
      "text/plain": [
       "<matplotlib.figure.Figure at 0x7f1f1c017510>"
      ]
     },
     "metadata": {},
     "output_type": "display_data"
    }
   ],
   "source": [
    "## Cross-Validation Analysis\n",
    "\n",
    "## Classification error\n",
    "ME_pred_cv = ME_predictions(df_cv, feature_cv, lambda_neg, lambda_neutral, lambda_pos)\n",
    "ME_pred_sa_cv = ME_predictions(df_sa_cv, feature_sa_cv, lambda_neg, lambda_neutral, lambda_pos)\n",
    "ME_pred_s140_cv = ME_predictions(df_s140_cv, feature_s140_cv, lambda_neg, lambda_neutral, lambda_pos)\n",
    "## training CV set\n",
    "ME_accuracy_cv_neg = 100.0*sum([ME_pred_cv[i] for i in range(len(df_cv)) if list(df_cv['sentiment'] == -1)[i] ] == df_cv[df_cv['sentiment'] == -1]['sentiment'])\\\n",
    "                    /len(df_cv[df_cv['sentiment'] == -1])\n",
    "ME_accuracy_cv_neutral = 100.0*sum([ME_pred_cv[i] for i in range(len(df_cv)) if list(df_cv['sentiment'] == 0)[i] ] == df_cv[df_cv['sentiment'] == 0]['sentiment'])\\\n",
    "                    /len(df_cv[df_cv['sentiment'] == 0])\n",
    "ME_accuracy_cv_pos = 100.0*sum([ME_pred_cv[i] for i in range(len(df_cv)) if list(df_cv['sentiment'] == 1)[i] ] == df_cv[df_cv['sentiment'] == 1]['sentiment'])\\\n",
    "                    /len(df_cv[df_cv['sentiment'] == 1])\n",
    "## SA CV set\n",
    "ME_accuracy_sa_cv_neg = 100.0*sum([ME_pred_sa_cv[i] for i in range(len(df_sa_cv)) if list(df_sa_cv['sentiment'] == -1)[i] ] == df_sa_cv[df_sa_cv['sentiment'] == -1]['sentiment'])\\\n",
    "                    /len(df_sa_cv[df_sa_cv['sentiment'] == -1])\n",
    "ME_accuracy_sa_cv_neutral = 100.0*sum([ME_pred_sa_cv[i] for i in range(len(df_sa_cv)) if list(df_sa_cv['sentiment'] == 0)[i] ] == df_sa_cv[df_sa_cv['sentiment'] == 0]['sentiment'])\\\n",
    "                    /len(df_sa_cv[df_sa_cv['sentiment'] == 0])\n",
    "ME_accuracy_sa_cv_pos = 100.0*sum([ME_pred_sa_cv[i] for i in range(len(df_sa_cv)) if list(df_sa_cv['sentiment'] == 1)[i] ] == df_sa_cv[df_sa_cv['sentiment'] == 1]['sentiment'])\\\n",
    "                    /len(df_sa_cv[df_sa_cv['sentiment'] == 1])\n",
    "## S140 CV set\n",
    "ME_accuracy_s140_cv_neg = 100.0*sum([ME_pred_s140_cv[i] for i in range(len(df_s140_cv)) if list(df_s140_cv['sentiment'] == -1)[i] ] == df_s140_cv[df_s140_cv['sentiment'] == -1]['sentiment'])\\\n",
    "                    /len(df_s140_cv[df_s140_cv['sentiment'] == -1])\n",
    "ME_accuracy_s140_cv_neutral = 100.0*sum([ME_pred_s140_cv[i] for i in range(len(df_s140_cv)) if list(df_s140_cv['sentiment'] == 0)[i] ] == df_s140_cv[df_s140_cv['sentiment'] == 0]['sentiment'])\\\n",
    "                    /len(df_s140_cv[df_s140_cv['sentiment'] == 0])\n",
    "ME_accuracy_s140_cv_pos = 100.0*sum([ME_pred_s140_cv[i] for i in range(len(df_s140_cv)) if list(df_s140_cv['sentiment'] == 1)[i] ] == df_s140_cv[df_s140_cv['sentiment'] == 1]['sentiment'])\\\n",
    "                    /len(df_s140_cv[df_s140_cv['sentiment'] == 1])\n",
    "  \n",
    "## examine performance\n",
    "print 'MaxEnt Performance:'\n",
    "pt = PrettyTable(field_names=['CV set', 'accuracy', '(-) accuracy', '(0) accuracy', '(+) accuracy']) \n",
    "[ pt.add_row(['training CV', round(predictions_cv_history[-1],2), \\\n",
    "                                   round(ME_accuracy_cv_neg,2), round(ME_accuracy_cv_neutral,2), round(ME_accuracy_cv_pos,2) ])]\n",
    "\n",
    "[ pt.add_row(['SA CV', round(predictions_sa_cv_history[-1],2), \\\n",
    "                             round(ME_accuracy_sa_cv_neg,2), round(ME_accuracy_sa_cv_neutral,2), round(ME_accuracy_sa_cv_pos,2) ])]\n",
    "\n",
    "[ pt.add_row(['S140 CV', round(predictions_s140_cv_history[-1],2), \\\n",
    "                               round(ME_accuracy_s140_cv_neg,2), round(ME_accuracy_s140_cv_neutral,2), round(ME_accuracy_s140_cv_pos,2) ])]\n",
    "#pt.align['Word'], pt.align['Count'] = 'l', 'r' #set column alignment\n",
    "print pt\n",
    "\n",
    "## make the plots\n",
    "fig = plt.figure(figsize=(10, 5))\n",
    "## subplot 1: the training history\n",
    "sub1 = fig.add_subplot(121)\n",
    "#ub1.set_title('MaxEnt Avg. Log Likelihood', fontsize=20)\n",
    "sub1.plot(m_eval*np.array(range(len(LL_history))), LL_history, c='black')\n",
    "sub1.plot(m_eval*np.array(range(len(LL_history))), LL_cv_history, c='black', linestyle='--')\n",
    "sub1.set_ylabel('avg. log likelihood', fontsize=20)\n",
    "sub1.set_xlabel('gradient ascent iterations', fontsize=20)\n",
    "## subplot 2: the prediction history\n",
    "sub2 = fig.add_subplot(122)\n",
    "#sub2.set_title('MaxEnt Accuracy', fontsize=20)\n",
    "sub2.plot(m_eval*np.array(range(len(LL_history))), predictions_cv_history, c='black')\n",
    "sub2.plot(m_eval*np.array(range(len(LL_history))), predictions_sa_cv_history, c='black', linestyle='--')\n",
    "sub2.plot(m_eval*np.array(range(len(LL_history))), predictions_s140_cv_history, c='black', linestyle='-.')\n",
    "sub2.set_xlabel('gradient ascent iterations', fontsize=20)\n",
    "sub2.set_ylabel('accuracy', fontsize=20)\n",
    "## finish up\n",
    "plt.tight_layout()\n",
    "plt.savefig('figures/MaxEnt_gradient_ascent.png')\n",
    "plt.show()"
   ]
  },
  {
   "cell_type": "code",
   "execution_count": 13,
   "metadata": {
    "collapsed": false
   },
   "outputs": [
    {
     "name": "stdout",
     "output_type": "stream",
     "text": [
      "+-------------+-----------------+---------------------+\n",
      "|    CV set   | NB +/- accuracy | MaxEnt +/- accuracy |\n",
      "+-------------+-----------------+---------------------+\n",
      "| training CV |  73.4027777778  |    74.0972222222    |\n",
      "|    SA CV    |  57.2104018913  |    67.7304964539    |\n",
      "|   S140 CV   |  68.7150837989  |    73.1843575419    |\n",
      "+-------------+-----------------+---------------------+\n"
     ]
    }
   ],
   "source": [
    "## In the Sentiment 140 Go et al paper, they find accuracies of about 80% for various algorithms.\n",
    "## In arriving at this number, they do not consider neutral tweets. \n",
    "## What do I get if I now, at this final stage, only look at the +/- classification problem?\n",
    "def ME_predictions_posnegonly(df_cv, feature_cv, lambda_neg, lambda_neutral, lambda_pos):\n",
    "  flambda_neg_cv = feature_cv.dot(lambda_neg)\n",
    "  flambda_neutral_cv = feature_cv.dot(lambda_neutral)\n",
    "  flambda_pos_cv = feature_cv.dot(lambda_pos)\n",
    "  boltz_neg_cv = np.squeeze(np.asarray(np.exp(flambda_neg_cv)))\n",
    "  boltz_neutral_cv = np.squeeze(np.asarray(np.exp(flambda_neutral_cv)))\n",
    "  boltz_pos_cv = np.squeeze(np.asarray(np.exp(flambda_pos_cv)))\n",
    "  predict = []\n",
    "  j1 = 0\n",
    "  j2 = 0\n",
    "  for i in range(len(df_cv)):\n",
    "    predict = -1 + 2*[boltz_neg_cv[i], boltz_pos_cv[i]].index(max([boltz_neg_cv[i], boltz_pos_cv[i]]))\n",
    "    if df_cv['sentiment'].iloc[i] != 0:\n",
    "      j1 += 1\n",
    "      if predict == df_cv['sentiment'].iloc[i]:\n",
    "        j2 += 1\n",
    "  #return the accuracy 1) neglecting neutral tweets entirely 2) considering all neutrals to be mischaracterized\n",
    "  return 100.0*j2/j1 \n",
    "\n",
    "pt = PrettyTable(field_names=['CV set', 'NB +/- accuracy', 'MaxEnt +/- accuracy']) \n",
    "[ pt.add_row(['training CV', 100.0*sum(df_cv[df_cv['sentiment'] != 0]['NB predictions'] == df_cv[df_cv['sentiment'] != 0]['sentiment'])/\\\n",
    "              len(df_cv[df_cv['sentiment'] != 0]), \\\n",
    "              ME_predictions_posnegonly(df_cv, feature_cv, lambda_neg, lambda_neutral, lambda_pos) ])]\n",
    "\n",
    "[ pt.add_row(['SA CV', 100.0*sum(df_sa_cv[df_sa_cv['sentiment'] != 0]['NB predictions'] == df_sa_cv[df_sa_cv['sentiment'] != 0]['sentiment'])/\\\n",
    "              len(df_sa_cv[df_sa_cv['sentiment'] != 0]), \\\n",
    "              ME_predictions_posnegonly(df_sa_cv, feature_sa_cv, lambda_neg, lambda_neutral, lambda_pos) ])]\n",
    "\n",
    "[ pt.add_row(['S140 CV', 100.0*sum(df_s140_cv[df_s140_cv['sentiment'] != 0]['NB predictions'] == df_s140_cv[df_s140_cv['sentiment'] != 0]['sentiment'])/\\\n",
    "              len(df_s140_cv[df_s140_cv['sentiment'] != 0]), \\\n",
    "              ME_predictions_posnegonly(df_s140_cv, feature_s140_cv, lambda_neg, lambda_neutral, lambda_pos) ])]\n",
    "#pt.align['Word'], pt.align['Count'] = 'l', 'r' #set column alignment\n",
    "print pt"
   ]
  },
  {
   "cell_type": "code",
   "execution_count": 14,
   "metadata": {
    "collapsed": false
   },
   "outputs": [],
   "source": [
    "## Save the model parameters\n",
    "np.save('model_parameters/lambda_neg', lambda_neg)\n",
    "np.save('model_parameters/lambda_neutral', lambda_neutral)\n",
    "np.save('model_parameters/lambda_pos', lambda_pos)\n",
    "np.save('model_parameters/feature', feature)\n",
    "np.save('model_parameters/words_unique', words_unique)"
   ]
  },
  {
   "cell_type": "code",
   "execution_count": 32,
   "metadata": {
    "collapsed": true
   },
   "outputs": [],
   "source": []
  },
  {
   "cell_type": "code",
   "execution_count": null,
   "metadata": {
    "collapsed": true
   },
   "outputs": [],
   "source": []
  }
 ],
 "metadata": {
  "kernelspec": {
   "display_name": "Python 2, Gavin",
   "language": "python",
   "name": "python2"
  },
  "language_info": {
   "codemirror_mode": {
    "name": "ipython",
    "version": 2
   },
   "file_extension": ".py",
   "mimetype": "text/x-python",
   "name": "python",
   "nbconvert_exporter": "python",
   "pygments_lexer": "ipython2",
   "version": "2.7.11"
  }
 },
 "nbformat": 4,
 "nbformat_minor": 0
}
