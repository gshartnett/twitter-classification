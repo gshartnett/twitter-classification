{
 "cells": [
  {
   "cell_type": "code",
   "execution_count": 1,
   "metadata": {
    "collapsed": false
   },
   "outputs": [],
   "source": [
    "## import necessary libraries\n",
    "import pandas as pd\n",
    "from collections import Counter\n",
    "import math\n",
    "import random\n",
    "\n",
    "## load the processed training-set tweets\n",
    "df = pd.read_pickle('tweet_data/training_data/training_data_processed.pkl')\n",
    "## load the processed cv-set tweets\n",
    "df_sa_cv = pd.read_pickle('tweet_data/cv_data/sanders_analytics/sanders_analytics_cv_data_processed.pkl')\n",
    "df_s140_cv = pd.read_pickle('tweet_data/cv_data/sentiment140/sentiment140_cv_data_processed.pkl')"
   ]
  },
  {
   "cell_type": "code",
   "execution_count": 2,
   "metadata": {
    "collapsed": false
   },
   "outputs": [
    {
     "name": "stdout",
     "output_type": "stream",
     "text": [
      "training data set size: 700317\n",
      "cv data set size: 175079\n",
      "sanders anlaytics cv data set size: 2624\n",
      "sentiment 140 cv data set size: 497\n"
     ]
    }
   ],
   "source": [
    "## split off a separate cv set from the training data (we already shuffled the data)\n",
    "cvratio = .2 # fraction to split off\n",
    "df_cv = df.copy(deep=True)\n",
    "df_cv = df_cv.iloc[:int(math.floor(cvratio*len(df)))]\n",
    "df_cv = df_cv.reset_index(drop=True)\n",
    "df = df.iloc[int(math.floor(cvratio*len(df))):]\n",
    "df = df.reset_index(drop=True)\n",
    "print 'training data set size:', len(df)\n",
    "print 'cv data set size:', + len(df_cv)\n",
    "print 'sanders anlaytics cv data set size:', len(df_sa_cv)\n",
    "print 'sentiment 140 cv data set size:', len(df_s140_cv)"
   ]
  },
  {
   "cell_type": "code",
   "execution_count": 3,
   "metadata": {
    "collapsed": false
   },
   "outputs": [],
   "source": [
    "## sentiment statistics\n",
    "def sentiment_stats(DF):\n",
    "  return [1.0*sum(DF['sentiment']==-1)/len(DF), 1.0*sum(DF['sentiment']==0)/len(DF), 1.0*sum(DF['sentiment']==1)/len(DF)]"
   ]
  },
  {
   "cell_type": "code",
   "execution_count": 4,
   "metadata": {
    "collapsed": false
   },
   "outputs": [
    {
     "name": "stdout",
     "output_type": "stream",
     "text": [
      "SA cv emoticon fractions: [0.024282560706401765, 0.05089058524173028]\n",
      "S140 cv emoticon fractions: [0.06779661016949153, 0.11049723756906077]\n",
      "training emoticon fractions: [1.0366030763615903, 1.0502237620202237]\n"
     ]
    }
   ],
   "source": [
    "## emoticon statistics\n",
    "def emoticon_stats(DF):\n",
    "  neg_emoticon_counter = 0\n",
    "  pos_emoticon_counter = 0\n",
    "  for i in range(len(DF)):\n",
    "    if DF['sentiment'].iloc[i] == -1:\n",
    "      neg_emoticon_counter += Counter(DF['words'].iloc[i])['negemoticontoken']\n",
    "    if DF['sentiment'].iloc[i] == 1:\n",
    "      pos_emoticon_counter += Counter(DF['words'].iloc[i])['posemoticontoken']\n",
    "\n",
    "  return [float(neg_emoticon_counter)/sum(DF['sentiment']==-1), float(pos_emoticon_counter)/sum(DF['sentiment']==1)]\n",
    "\n",
    "print 'SA cv emoticon fractions:', emoticon_stats(df_sa_cv)\n",
    "print 'S140 cv emoticon fractions:', emoticon_stats(df_s140_cv)\n",
    "print 'training emoticon fractions:', emoticon_stats(df)"
   ]
  },
  {
   "cell_type": "code",
   "execution_count": 5,
   "metadata": {
    "collapsed": false
   },
   "outputs": [
    {
     "name": "stdout",
     "output_type": "stream",
     "text": [
      "training emoticon fractions: [0.07286779856902804, 0.07824139087167577]\n"
     ]
    }
   ],
   "source": [
    "## throw away some fraction (to be treated as a hyperparameter) of the emoticons\n",
    "## probably should treat +/- differently, for now let's treat as the same\n",
    "pThreshold = 0.06 #fraction to keep\n",
    "emoticoncounter = 0\n",
    "droppedcounter = 0\n",
    "for i in range(len(df)):\n",
    "  for w in df['words'].iloc[i]:\n",
    "    if w == 'posemoticontoken' or w == 'negemoticontoken':\n",
    "      emoticoncounter += 1\n",
    "      if random.random() > pThreshold:\n",
    "        df['words'].iloc[i].remove(w)\n",
    "        droppedcounter += 1\n",
    "print 'training emoticon fractions:', emoticon_stats(df)"
   ]
  },
  {
   "cell_type": "code",
   "execution_count": 6,
   "metadata": {
    "collapsed": true
   },
   "outputs": [],
   "source": [
    "## build the bag of words\n",
    "words_tot_neg = [item for sublist in df['words'][df['sentiment'] == -1] for item in sublist]\n",
    "words_tot_neutral = [item for sublist in df['words'][df['sentiment'] == 0] for item in sublist]\n",
    "words_tot_pos = [item for sublist in df['words'][df['sentiment'] == 1] for item in sublist]\n",
    "words_tot = words_tot_pos + words_tot_neutral + words_tot_neg\n",
    "counter_neg = Counter(words_tot_neg)\n",
    "counter_neutral = Counter(words_tot_neutral)\n",
    "counter_pos = Counter(words_tot_pos)\n",
    "counter = Counter(words_tot)\n",
    "\n",
    "## priors\n",
    "prior_neg = float(sum(df['sentiment']==-1))/len(df)\n",
    "prior_neutral = float(sum(df['sentiment']==0))/len(df)\n",
    "prior_pos = float(sum(df['sentiment']==1))/len(df)"
   ]
  },
  {
   "cell_type": "code",
   "execution_count": 7,
   "metadata": {
    "collapsed": false
   },
   "outputs": [],
   "source": [
    "## conditional probabilities of word given class (with Laplace smoothing parameter alpha)\n",
    "alpha = 1 # Laplace smoothing parameter\n",
    "def p_word_given_neg(word):\n",
    "  return float(counter_neg[word] + alpha)/(len(words_tot_neg) + alpha*len(words_tot))\n",
    "def p_word_given_neutral(word):\n",
    "  return float(counter_neutral[word] + alpha)/(len(words_tot_neutral) + alpha*len(words_tot))\n",
    "def p_word_given_pos(word):\n",
    "  return float(counter_pos[word] + alpha)/(len(words_tot_pos) + alpha*len(words_tot))"
   ]
  },
  {
   "cell_type": "code",
   "execution_count": 8,
   "metadata": {
    "collapsed": true
   },
   "outputs": [],
   "source": [
    "## sentiment prediction\n",
    "def predict(word_list):\n",
    "  p_neg = math.log(prior_neg) + sum([math.log(p_word_given_neg(i)) for i in word_list])\n",
    "  p_neutral = math.log(prior_neutral) + sum([math.log(p_word_given_neutral(i)) for i in word_list])\n",
    "  p_pos = math.log(prior_pos) + sum([math.log(p_word_given_pos(i)) for i in word_list])\n",
    "  return -1 + [p_neg, p_neutral, p_pos].index(max([p_pos, p_neutral, p_neg]))\n",
    "\n",
    "## sentiment density\n",
    "def s_predict(df):\n",
    "  return sum(1.0*df['predictions'])/len(df)\n",
    "def s_true(df):\n",
    "  return sum(1.0*df['sentiment'])/len(df)\n",
    "\n",
    "## keep a fraction of data\n",
    "def decimate(DF, Aminus, A0, Aplus):\n",
    "  keep_minus = random.sample([k for k, x in enumerate(DF['sentiment']==-1) if x], int(Aminus*sum(DF['sentiment']==-1)))\n",
    "  keep_0 = random.sample([k for k, x in enumerate(DF['sentiment']==0) if x], int(A0*sum(DF['sentiment']==0)))\n",
    "  keep_plus = random.sample([k for k, x in enumerate(DF['sentiment']==1) if x], int(Aplus*sum(DF['sentiment']==1)))\n",
    "  keep = sorted(keep_minus + keep_0 + keep_plus)\n",
    "  return DF.iloc[keep].copy()"
   ]
  },
  {
   "cell_type": "code",
   "execution_count": 9,
   "metadata": {
    "collapsed": false
   },
   "outputs": [
    {
     "data": {
      "text/plain": [
       "[0.17263719512195122, 0.6775914634146342, 0.14977134146341464]"
      ]
     },
     "execution_count": 9,
     "metadata": {},
     "output_type": "execute_result"
    }
   ],
   "source": [
    "sentiment_stats(df_sa_cv)"
   ]
  },
  {
   "cell_type": "code",
   "execution_count": 16,
   "metadata": {
    "collapsed": false
   },
   "outputs": [],
   "source": [
    "## evaluate error of an ensemble of CV sets in parameter space\n",
    "random.seed(13)\n",
    "m=30\n",
    "grid = []\n",
    "[nminus, n0, nplus] = sentiment_stats(df_cv)\n",
    "a = min(nplus,nminus,n0)\n",
    "for i in range(m):\n",
    "  for j in range(m):\n",
    "    if (i+j <= m-1):\n",
    "      aminus = a*j/(nminus*(m-1))\n",
    "      a0 = a*(1 - float(i+j)/(m-1) )/(1-nplus-nminus)\n",
    "      aplus = a*i/(nplus*(m-1))\n",
    "      df_temp = decimate(df_cv, aminus, a0, aplus)\n",
    "      [nminus2, n02, nplus2] = sentiment_stats(df_temp)\n",
    "      df_temp['predictions'] = df_temp['words'].map(predict)\n",
    "      grid.append( [nplus2, nminus2, s_predict(df_temp), s_true(df_temp)] )\n",
    "    #else:\n",
    "    #  grid.append( [nplus2, nminus2, 0, 0] )      "
   ]
  },
  {
   "cell_type": "code",
   "execution_count": 17,
   "metadata": {
    "collapsed": false
   },
   "outputs": [
    {
     "data": {
      "text/plain": [
       "[<matplotlib.lines.Line2D at 0x7f636b930790>]"
      ]
     },
     "execution_count": 17,
     "metadata": {},
     "output_type": "execute_result"
    },
    {
     "data": {
      "image/png": "[encoded data removed]",
      "text/plain": [
       "<matplotlib.figure.Figure at 0x7f63720ffd50>"
      ]
     },
     "metadata": {},
     "output_type": "display_data"
    }
   ],
   "source": [
    "## plot the grid\n",
    "import numpy as np\n",
    "import matplotlib.pyplot as plt\n",
    "%matplotlib inline  \n",
    "plt.scatter(*zip(*[[x[0],x[1]] for x in grid]))\n",
    "plt.scatter(*[nplus, nminus], color='red')\n",
    "plt.plot([1,0], color='blue')\n",
    "plt.plot([0,0], color='blue')\n",
    "plt.plot((0, 0), (0, 1), 'blue')\n",
    "#plt.show()"
   ]
  },
  {
   "cell_type": "code",
   "execution_count": 18,
   "metadata": {
    "collapsed": false
   },
   "outputs": [],
   "source": [
    "with open('griddump', 'w') as f:\n",
    "    for s in grid:\n",
    "        f.write(str(s) + '\\n')"
   ]
  },
  {
   "cell_type": "code",
   "execution_count": 12,
   "metadata": {
    "collapsed": false
   },
   "outputs": [
    {
     "ename": "NameError",
     "evalue": "name 'grid2' is not defined",
     "output_type": "error",
     "traceback": [
      "\u001b[1;31m---------------------------------------------------------------------------\u001b[0m",
      "\u001b[1;31mNameError\u001b[0m                                 Traceback (most recent call last)",
      "\u001b[1;32m<ipython-input-12-93200b9919eb>\u001b[0m in \u001b[0;36m<module>\u001b[1;34m()\u001b[0m\n\u001b[0;32m     18\u001b[0m \u001b[0max\u001b[0m\u001b[1;33m.\u001b[0m\u001b[0mplot_surface\u001b[0m\u001b[1;33m(\u001b[0m\u001b[0mx_surf\u001b[0m\u001b[1;33m,\u001b[0m \u001b[0my_surf\u001b[0m\u001b[1;33m,\u001b[0m \u001b[0mz_surf\u001b[0m\u001b[1;33m,\u001b[0m \u001b[0malpha\u001b[0m \u001b[1;33m=\u001b[0m \u001b[1;36m0.1\u001b[0m\u001b[1;33m)\u001b[0m\u001b[1;33m\u001b[0m\u001b[0m\n\u001b[0;32m     19\u001b[0m \u001b[1;33m\u001b[0m\u001b[0m\n\u001b[1;32m---> 20\u001b[1;33m \u001b[0mXX\u001b[0m \u001b[1;33m=\u001b[0m \u001b[1;33m[\u001b[0m\u001b[0mx\u001b[0m\u001b[1;33m[\u001b[0m\u001b[1;36m0\u001b[0m\u001b[1;33m]\u001b[0m \u001b[1;32mfor\u001b[0m \u001b[0mx\u001b[0m \u001b[1;32min\u001b[0m \u001b[0mgrid2\u001b[0m\u001b[1;33m]\u001b[0m\u001b[1;33m\u001b[0m\u001b[0m\n\u001b[0m\u001b[0;32m     21\u001b[0m \u001b[0mYY\u001b[0m \u001b[1;33m=\u001b[0m \u001b[1;33m[\u001b[0m\u001b[0mx\u001b[0m\u001b[1;33m[\u001b[0m\u001b[1;36m1\u001b[0m\u001b[1;33m]\u001b[0m \u001b[1;32mfor\u001b[0m \u001b[0mx\u001b[0m \u001b[1;32min\u001b[0m \u001b[0mgrid2\u001b[0m\u001b[1;33m]\u001b[0m\u001b[1;33m\u001b[0m\u001b[0m\n\u001b[0;32m     22\u001b[0m \u001b[0mZZ\u001b[0m \u001b[1;33m=\u001b[0m \u001b[1;33m[\u001b[0m\u001b[0mx\u001b[0m\u001b[1;33m[\u001b[0m\u001b[1;36m2\u001b[0m\u001b[1;33m]\u001b[0m \u001b[1;32mfor\u001b[0m \u001b[0mx\u001b[0m \u001b[1;32min\u001b[0m \u001b[0mgrid2\u001b[0m\u001b[1;33m]\u001b[0m\u001b[1;33m\u001b[0m\u001b[0m\n",
      "\u001b[1;31mNameError\u001b[0m: name 'grid2' is not defined"
     ]
    },
    {
     "data": {
      "image/png": "[encoded data removed]",
      "text/plain": [
       "<matplotlib.figure.Figure at 0x7f634b664e50>"
      ]
     },
     "metadata": {},
     "output_type": "display_data"
    }
   ],
   "source": [
    "from matplotlib import pyplot\n",
    "import pylab\n",
    "from mpl_toolkits.mplot3d import Axes3D\n",
    "from matplotlib import cm\n",
    "\n",
    "fig = pylab.figure()\n",
    "ax = Axes3D(fig)\n",
    "plt.hold(True)\n",
    "\n",
    "ax.plot([0,0], [0,1], [0,0], color = 'blue')\n",
    "ax.plot([0,1], [0,0], [0,0], color = 'blue')\n",
    "ax.plot([0,1], [1,0], [0,0], color = 'blue')\n",
    "\n",
    "x_surf=np.arange(0, 1, 0.01)                # generate a mesh\n",
    "y_surf=np.arange(0, 1, 0.01)\n",
    "x_surf, y_surf = np.meshgrid(x_surf, y_surf)\n",
    "z_surf = 0#np.sqrt(x_surf+y_surf)             # ex. function, which depends on x and y\n",
    "ax.plot_surface(x_surf, y_surf, z_surf, alpha = 0.1) \n",
    "\n",
    "XX = [x[0] for x in grid2]\n",
    "YY = [x[1] for x in grid2]\n",
    "ZZ = [x[2] for x in grid2]\n",
    "\n",
    "ax.scatter(YY, XX, ZZ)\n",
    "pyplot.show()"
   ]
  },
  {
   "cell_type": "code",
   "execution_count": null,
   "metadata": {
    "collapsed": false
   },
   "outputs": [],
   "source": [
    "grid2"
   ]
  },
  {
   "cell_type": "code",
   "execution_count": null,
   "metadata": {
    "collapsed": true
   },
   "outputs": [],
   "source": []
  },
  {
   "cell_type": "code",
   "execution_count": null,
   "metadata": {
    "collapsed": false
   },
   "outputs": [],
   "source": [
    "X = np.asarray([x[0] for x in grid])\n",
    "Y = np.asarray([x[1] for x in grid])\n",
    "Z = np.asarray([x[2] for x in grid])\n",
    "print len(X)\n",
    "#X.reshape()\n",
    "#type(X)\n",
    "#myarray = np.asarray(x)\n",
    "#type(x)"
   ]
  },
  {
   "cell_type": "code",
   "execution_count": null,
   "metadata": {
    "collapsed": false
   },
   "outputs": [],
   "source": [
    "z = np.array([x[2] for x in grid])\n",
    "Ngrid = z.reshape((m, m)).T\n",
    "plt.imshow(Ngrid, extent=(0, 1, 0, 1), interpolation='nearest', cmap=cm.gist_rainbow)\n",
    "plt.show()"
   ]
  },
  {
   "cell_type": "code",
   "execution_count": null,
   "metadata": {
    "collapsed": false
   },
   "outputs": [],
   "source": []
  },
  {
   "cell_type": "code",
   "execution_count": null,
   "metadata": {
    "collapsed": false
   },
   "outputs": [],
   "source": [
    "from matplotlib import pyplot as PLT\n",
    "from matplotlib import cm as CM\n",
    "\n",
    "#A = NP.random.randint(10, 100, 100).reshape(10, 10)\n",
    "A = z\n",
    "# create an upper triangular 'matrix' from A\n",
    "A2 = z\n",
    "A2 = np.tril(A)\n",
    "fig = PLT.figure()\n",
    "ax1 = fig.add_subplot(111)\n",
    "# use dir(matplotlib.cm) to get a list of the installed colormaps\n",
    "# the \"_r\" means \"reversed\" and accounts for why zero values are plotted as white\n",
    "cmap = CM.get_cmap('gray_r', 5)\n",
    "ax1.imshow(A2, interpolation=\"nearest\", cmap=cmap)\n",
    "##ax1.grid(True)\n",
    "##PLT.show()"
   ]
  },
  {
   "cell_type": "code",
   "execution_count": null,
   "metadata": {
    "collapsed": false
   },
   "outputs": [],
   "source": [
    "import matplotlib.pyplot as plt\n",
    "import numpy as np\n",
    "\n",
    "a = np.random.random((16, 16))\n",
    "plt.imshow(a, cmap='hot', interpolation='nearest')\n",
    "plt.show()"
   ]
  },
  {
   "cell_type": "code",
   "execution_count": null,
   "metadata": {
    "collapsed": true
   },
   "outputs": [],
   "source": [
    "## classification error\n",
    "df_cv['predictions'] = df_cv['words'].map(predict)\n",
    "df_sa_cv['predictions'] = df_sa_cv['words'].map(predict)\n",
    "df_s140_cv['predictions'] = df_s140_cv['words'].map(predict)\n",
    "\n",
    "print 'my CV: correctly classified:', 100*float(sum(df_cv['predictions'] == df_cv['sentiment']))/len(df_cv), '%'\n",
    "print 'SA CV: correctly classified:', 100*float(sum(df_sa_cv['predictions'] == df_sa_cv['sentiment']))/len(df_sa_cv), '%'\n",
    "print 'S140 CV: correctly classified:', 100*float(sum(df_s140_cv['predictions'] == df_s140_cv['sentiment']))/len(df_s140_cv), '%'"
   ]
  },
  {
   "cell_type": "code",
   "execution_count": null,
   "metadata": {
    "collapsed": false
   },
   "outputs": [],
   "source": [
    "m=6\n",
    "grid = []\n",
    "for i in range(m):\n",
    "  for j in range(m):\n",
    "    if (i + j <= m -1):\n",
    "      nplus = 1.0*sum(df['sentiment']==1)/len(df)\n",
    "      nminus = 1.0*sum(df['sentiment']==-1)/len(df)\n",
    "      n0 = 1.0*sum(df['sentiment']==0)/len(df)\n",
    "      a = min(nplus,nminus,n0)\n",
    "      aplus = a*i/(nplus*(m-1))\n",
    "      aminus = a*j/(nminus*(m-1))\n",
    "      a0 = a*(1 - float(i+j)/(m-1) )/(1-nplus-nminus)\n",
    "      nplus2 = aplus*nplus/a\n",
    "      nminus2 = aminus*nminus/a\n",
    "      n02 = a0*n0/a\n",
    "      grid.append( [nplus2, nminus2] )"
   ]
  },
  {
   "cell_type": "code",
   "execution_count": null,
   "metadata": {
    "collapsed": false
   },
   "outputs": [],
   "source": [
    "print s_predict(decimate(df_sa_cv,0.3,0.2,0.5))\n",
    "print s_true(decimate(df_sa_cv,0.3,0.2,0.5))"
   ]
  },
  {
   "cell_type": "code",
   "execution_count": null,
   "metadata": {
    "collapsed": false
   },
   "outputs": [],
   "source": [
    "(Aplus/A)*.14977134146341464"
   ]
  },
  {
   "cell_type": "code",
   "execution_count": null,
   "metadata": {
    "collapsed": true
   },
   "outputs": [],
   "source": [
    "## function that drops a fraction (1-a_i) of entries matching sentiment i\n",
    "def sent_drop_df(DF,Aplus,Aminus,A0):\n",
    "  for i in range(len(DF)):\n",
    "    if DF['sentiment'].iloc[i] == 1:\n",
    "      if "
   ]
  },
  {
   "cell_type": "code",
   "execution_count": null,
   "metadata": {
    "collapsed": false
   },
   "outputs": [],
   "source": [
    "random.sample(range(0, sum(df['sentiment']==1)), 9)"
   ]
  },
  {
   "cell_type": "code",
   "execution_count": null,
   "metadata": {
    "collapsed": false
   },
   "outputs": [],
   "source": [
    "## evaluate this on a grid of CV sets in (nplus, nminus) parameter space\n",
    "m=6\n",
    "grid = []\n",
    "for i in range(m):\n",
    "  for j in range(m):\n",
    "    if (i + j <= m -1):\n",
    "      nplus = 1.0*sum(df['sentiment']==1)/len(df)\n",
    "      nminus = 1.0*sum(df['sentiment']==-1)/len(df)\n",
    "      n0 = 1.0*sum(df['sentiment']==0)/len(df)\n",
    "      a = min(nplus,nminus,n0)\n",
    "      aplus = a*i/(nplus*(m-1))\n",
    "      aminus = a*j/(nminus*(m-1))\n",
    "      a0 = a*(1 - float(i+j)/(m-1) )/(1-nplus-nminus)\n",
    "      nplus2 = aplus*nplus/a\n",
    "      nminus2 = aminus*nminus/a\n",
    "      n02 = a0*n0/a\n",
    "      grid.append( [nplus2, nminus2] )\n",
    "\n",
    "## plot the grid\n",
    "import numpy as np\n",
    "import matplotlib.pyplot as plt\n",
    "%matplotlib inline  \n",
    "plt.scatter(*zip(*grid))\n",
    "plt.scatter(*[nplus, nminus], color='red')\n",
    "plt.plot([1,0], color='blue')\n",
    "plt.plot([0,0], color='blue')\n",
    "plt.plot((0, 0), (0, 1), 'blue')\n",
    "#plt.show()"
   ]
  },
  {
   "cell_type": "code",
   "execution_count": null,
   "metadata": {
    "collapsed": false
   },
   "outputs": [],
   "source": [
    "print nplus, nminus, n0\n",
    "print nplus+nminus+n0\n",
    "print [aplus, aminus, a0]"
   ]
  },
  {
   "cell_type": "code",
   "execution_count": null,
   "metadata": {
    "collapsed": true
   },
   "outputs": [],
   "source": []
  },
  {
   "cell_type": "code",
   "execution_count": null,
   "metadata": {
    "collapsed": false
   },
   "outputs": [],
   "source": [
    "print s_predict(df_cv)\n",
    "print s_true(df_cv)"
   ]
  },
  {
   "cell_type": "code",
   "execution_count": null,
   "metadata": {
    "collapsed": false
   },
   "outputs": [],
   "source": [
    "print s_predict(df_sa_cv)\n",
    "print s_true(df_sa_cv)"
   ]
  },
  {
   "cell_type": "code",
   "execution_count": null,
   "metadata": {
    "collapsed": false
   },
   "outputs": [],
   "source": [
    "print s_predict(df_s140_cv)\n",
    "print s_true(df_s140_cv)"
   ]
  },
  {
   "cell_type": "code",
   "execution_count": null,
   "metadata": {
    "collapsed": true
   },
   "outputs": [],
   "source": []
  }
 ],
 "metadata": {
  "kernelspec": {
   "display_name": "Python 2, Gavin",
   "language": "python",
   "name": "python2"
  },
  "language_info": {
   "codemirror_mode": {
    "name": "ipython",
    "version": 2
   },
   "file_extension": ".py",
   "mimetype": "text/x-python",
   "name": "python",
   "nbconvert_exporter": "python",
   "pygments_lexer": "ipython2",
   "version": "2.7.11"
  }
 },
 "nbformat": 4,
 "nbformat_minor": 0
}
