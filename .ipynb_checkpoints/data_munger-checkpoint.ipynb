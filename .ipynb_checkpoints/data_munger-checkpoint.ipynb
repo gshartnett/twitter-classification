{
 "cells": [
  {
   "cell_type": "code",
   "execution_count": 1,
   "metadata": {
    "collapsed": true
   },
   "outputs": [],
   "source": [
    "## import necessary libraries\n",
    "import os\n",
    "import sys\n",
    "import json\n",
    "import csv\n",
    "import pandas as pd\n",
    "import numpy as np\n",
    "from collections import Counter\n",
    "import random\n",
    "import math\n",
    "import nltk\n",
    "from nltk.corpus import stopwords\n",
    "\n",
    "## load the dataframe of (mostly) raw tweets\n",
    "df = pd.read_pickle('tweet_data/tweets.pkl')\n",
    "\n",
    "###TODO: \n",
    "##fix text wrapping\n",
    "## goal of this notebook: mung the data to produce something like col1: sentiment, col2: tweet's words\n",
    "## then apply diff ML methods to this processed data in other notebooks\n",
    "\n",
    "## worry about 'RT's and 'via's'\n",
    "## worry about punctuation\n",
    "## count retweets? will be skewed by neutral feeds being major twitter feeds\n",
    "## retweets provide info about users that may be outside our data set (since we can see retweet count)\n",
    "## might want to count all emoticons as the same? play with this\n",
    "\n",
    "## next, worry about numbers and dates\n",
    "# how to handle contractions?/internet speak like b4\n",
    "\n",
    "##implement baseline\n",
    "#from nltk import NaiveBayesClassifier, classify\n",
    "#why do they call it multinomial?"
   ]
  },
  {
   "cell_type": "code",
   "execution_count": 2,
   "metadata": {
    "collapsed": false
   },
   "outputs": [
    {
     "name": "stdout",
     "output_type": "stream",
     "text": [
      "initial number of tweets: 952152\n",
      "  number of neutral tweets: 338417, 35.542329376%\n",
      "  number of positive tweets: 306791, 32.2208008805%\n",
      "  number of negative tweets: 306944, 32.2368697435%\n"
     ]
    }
   ],
   "source": [
    "## take fraction of the data and scramble it\n",
    "frac = 1.0\n",
    "df = df.iloc[random.sample(range(0, len(df)), int(math.floor(frac*len(df))))]\n",
    "df = df.reset_index(drop=True)\n",
    "\n",
    "## print out some basic initial statistics\n",
    "print 'initial number of tweets: ' + str(len(df))\n",
    "print '  number of neutral tweets: ' + str(sum(df['sentiment']==0)) + ', ' + str(float(sum(df['sentiment']==0))/len(df)*100) + '%'\n",
    "print '  number of positive tweets: ' + str(sum(df['sentiment']==1)) + ', ' + str(float(sum(df['sentiment']==1))/len(df)*100) + '%'\n",
    "print '  number of negative tweets: ' + str(sum(df['sentiment']==-1)) + ', ' + str(float(sum(df['sentiment']==-1))/len(df)*100) + '%'\n",
    "\n",
    "if sum(df['sentiment']==-1) + sum(df['sentiment']==0) + sum(df['sentiment']==1) != len(df):\n",
    "  print 'Not all tweets classified as 1,0,-1!'"
   ]
  },
  {
   "cell_type": "code",
   "execution_count": 3,
   "metadata": {
    "collapsed": false
   },
   "outputs": [
    {
     "name": "stdout",
     "output_type": "stream",
     "text": [
      "duplicates deleted: 6306\n",
      "current number of tweets: 945846\n"
     ]
    }
   ],
   "source": [
    "## delete the duplicates\n",
    "Noriginal = len(df)\n",
    "df = df.drop_duplicates(subset='id', keep='last')\n",
    "print 'duplicates deleted: ' + str(Noriginal - len(df))\n",
    "df = df.reset_index(drop=True)\n",
    "print 'current number of tweets: ' + str(len(df))"
   ]
  },
  {
   "cell_type": "code",
   "execution_count": 4,
   "metadata": {
    "collapsed": false
   },
   "outputs": [
    {
     "name": "stdout",
     "output_type": "stream",
     "text": [
      "number of retweets deleted: 239084\n"
     ]
    }
   ],
   "source": [
    "## delete the retweets\n",
    "print 'number of retweets deleted: ' + str(sum(list(df['retweet'])))\n",
    "df = df[[not i for i in list(df['retweet'])]]"
   ]
  },
  {
   "cell_type": "code",
   "execution_count": 5,
   "metadata": {
    "collapsed": false
   },
   "outputs": [
    {
     "name": "stdout",
     "output_type": "stream",
     "text": [
      "non-English tweets deleted: 4111\n",
      "current number of tweets: 702651\n"
     ]
    }
   ],
   "source": [
    "## drop the non-English tweets (most dropped tweets seem to actually be English...)\n",
    "lang_drop = (df['lang']!='en')\n",
    "print 'non-English tweets deleted: ' + str(sum(lang_drop))\n",
    "df = df[list([not i for i in lang_drop])]\n",
    "df = df.reset_index(drop=True)\n",
    "print 'current number of tweets: ' + str(len(df))"
   ]
  },
  {
   "cell_type": "code",
   "execution_count": 6,
   "metadata": {
    "collapsed": false
   },
   "outputs": [],
   "source": [
    "## Preprocessing: set-up\n",
    "\n",
    "## define a preprocessing function that 1) lowers the case, 2) tokenizes into words, 3) lemmatizes\n",
    "from nltk.stem import WordNetLemmatizer\n",
    "wordnet_lemmatizer = WordNetLemmatizer()\n",
    "def preprocess(sentence):\n",
    "  return [wordnet_lemmatizer.lemmatize(word.lower()) for word in nltk.word_tokenize(sentence)]\n",
    "\n",
    "## load the list of english stop words\n",
    "stoplist = stopwords.words('english')\n",
    "\n",
    "## set-up regular expressions to delete all non a-z characters\n",
    "import re\n",
    "regex = re.compile('[^a-zA-Z]')\n",
    "\n",
    "## translation tables for dropping punctuation\n",
    "## treat apostrophes differently from things like .,! also do not include _\n",
    "import string\n",
    "punctuation = string.punctuation\n",
    "#punctuation = punctuation.replace('_', '')\n",
    "punctuation_nospace = punctuation[6]\n",
    "punctuation_space = [p for p in punctuation if p not in punctuation_nospace]\n",
    "translate_table_nospace = dict((ord(char), None) for char in punctuation_nospace)   \n",
    "translate_table_space = dict((ord(char), u' ') for char in punctuation_space)\n",
    "\n",
    "## merge the tables\n",
    "translate_table = translate_table_space.copy()\n",
    "translate_table.update(translate_table_nospace) \n",
    "\n",
    "## load the list of emoticons\n",
    "import codecs\n",
    "f = codecs.open('emoticons_positive.txt', encoding='utf-8')\n",
    "pos_emoticons = []\n",
    "for line in f:\n",
    "  pos_emoticons.append(line[0:-1])\n",
    "f = codecs.open('emoticons_negative.txt', encoding='utf-8')\n",
    "neg_emoticons = []\n",
    "for line in f:\n",
    "  neg_emoticons.append(line[0:-1])\n",
    "all_emoticons = pos_emoticons + neg_emoticons\n",
    "ASCII_all_emoticons = [e.encode(\"ascii\",\"ignore\") for e in all_emoticons]\n",
    "\n",
    "## Preprocessing: implementation\n",
    "words = []\n",
    "new_text = []\n",
    "for i in range(len(df)):\n",
    "  text_dummy = df['text'].iloc[i]\n",
    "\n",
    "  ## tokenize positive and negative emoticons\n",
    "  ## also pad the token with spaces to catch even embedded tweets such as 'lame:('\n",
    "  for j in range(len(pos_emoticons)):\n",
    "    text_dummy = text_dummy.replace(pos_emoticons[j], ' posemoticontoken' + ' ')\n",
    "  for j in range(len(neg_emoticons)):\n",
    "    text_dummy = text_dummy.replace(neg_emoticons[j], ' negemoticontoken' + ' ')\n",
    "  \n",
    "  ## tokenize handles, hashtags, and url's\n",
    "  text_dummy = text_dummy.replace('@', ' usernametoken') #this catches the '.@XXX' trick\n",
    "  text_dummy = text_dummy.replace('#', ' hashtagtoken')\n",
    "  while 'https://' in text_dummy:\n",
    "    text_dummy = text_dummy[:text_dummy.index('https://')] +' urltoken ' + text_dummy[text_dummy.index('https://')+23:]\n",
    "  while 'http://' in text_dummy:\n",
    "    text_dummy = text_dummy[:text_dummy.index('http://')] +' urltoken ' + text_dummy[text_dummy.index('http://')+22:]\n",
    "  \n",
    "  ## replace html entities with space (note: 'and' is a stopword and so is dropped, so no need to treat & special)\n",
    "  html_entities = [u'&nbsp;', u'&lt;', u'&gt;', u'&amp;', u'&quot;', u'&apos;', u'&cent;', u'&pound;', u'&yen;', u'&euro;', u'&copy;', u'&reg;']\n",
    "  for html in html_entities:\n",
    "    text_dummy = text_dummy.replace(html, '')\n",
    "  \n",
    "  ## drop punctuation, tokenize into words, lower the case, and lemmatize\n",
    "  text_dummy = text_dummy.translate(translate_table)\n",
    "  words_dummy = preprocess(text_dummy)\n",
    "\n",
    "  ## remove stop words\n",
    "  words_dummy = [w for w in words_dummy if not w in stoplist]\n",
    "  \n",
    "  ## anonymize the username_tokens\n",
    "  for j in range(len(words_dummy)):\n",
    "    if words_dummy[j][0:13] == 'usernametoken':\n",
    "      words_dummy[j] = 'usernametoken'\n",
    "\n",
    "  ## remove numbers\n",
    "  words_dummy = [regex.sub('', w) for w in words_dummy if len(regex.sub('', w)) > 0]\n",
    "  \n",
    "  ## make a new sentence for easy vectorized manipulations\n",
    "  words.append(words_dummy)\n",
    "  new_text.append(\" \".join(words_dummy))\n",
    "df['words'] = words\n",
    "df['new_text'] = new_text"
   ]
  },
  {
   "cell_type": "code",
   "execution_count": 7,
   "metadata": {
    "collapsed": false
   },
   "outputs": [
    {
     "name": "stdout",
     "output_type": "stream",
     "text": [
      "tweets to be dropped: 15947, 2.26954775557%\n",
      "  neutral tweets to be dropped: 1846, 0.671490045869%\n",
      "  positive tweets to be dropped: 11971, 6.17007787977%\n",
      "  negative tweets to be dropped: 2130, 0.911335213051%\n"
     ]
    }
   ],
   "source": [
    "## Refine sentiment assignment\n",
    "\n",
    "## drop the tweets containing the wrong emoticon tokens\n",
    "neutral_drop1 = (df['sentiment']==0) & (df['new_text'].str.contains('posemoticontoken'))\n",
    "neutral_drop2 = (df['sentiment']==0) & (df['new_text'].str.contains('negemoticontoken'))\n",
    "pos_drop1 = (df['sentiment']==1) & (df['new_text'].str.contains('negemoticontoken'))\n",
    "neg_drop1 = (df['sentiment']==-1) & (df['new_text'].str.contains('posemoticontoken'))\n",
    "\n",
    "## drop any positive/negative tweets not containing the appropriate emoticon token\n",
    "## there are much more positive tweets dropped b/c :P was returned in the search query for :)\n",
    "pos_drop2 = (df['sentiment']==1) & (df['new_text'].str.contains('posemoticontoken')==False)\n",
    "neg_drop2 = (df['sentiment']==-1) & (df['new_text'].str.contains('negemoticontoken')==False)\n",
    "\n",
    "droplist = list(neutral_drop1|neutral_drop2|pos_drop1|pos_drop2|neg_drop1|neg_drop2)\n",
    "not_droplist = [not i for i in droplist]\n",
    "print 'tweets to be dropped: ' + str(sum(droplist)) + ', ' + str(100*float(sum(droplist))/len(df)) + '%'\n",
    "print '  neutral tweets to be dropped: ' + str(sum(list(neutral_drop1|neutral_drop2))) + ', ' + str(100*float(sum(list(neutral_drop1|neutral_drop2)))/sum(df['sentiment']==0)) + '%'\n",
    "print '  positive tweets to be dropped: ' + str(sum(list(pos_drop1|pos_drop2))) + ', ' + str(100*float(sum(list(pos_drop1|pos_drop2)))/sum(df['sentiment']==1)) + '%'\n",
    "print '  negative tweets to be dropped: ' + str(sum(list(neg_drop1|neg_drop2))) + ', ' + str(100*float(sum(list(neg_drop1|neg_drop2)))/sum(df['sentiment']==-1)) + '%'\n",
    "df = df[list(not_droplist)]\n",
    "df = df.reset_index(drop=True)\n",
    "\n",
    "## drop 'new_text' to avoid mistakes as I continue to process 'words'\n",
    "df.drop('new_text', axis=1, inplace=True)"
   ]
  },
  {
   "cell_type": "code",
   "execution_count": 8,
   "metadata": {
    "collapsed": false
   },
   "outputs": [
    {
     "name": "stdout",
     "output_type": "stream",
     "text": [
      "dropped 100.0% of emoticons\n"
     ]
    }
   ],
   "source": [
    "## throw away some fraction (to be treated as a hyperparameter) of the emoticons\n",
    "pThreshold = 0.0 #fraction to keep\n",
    "emoticoncounter = 0\n",
    "droppedcounter = 0\n",
    "for i in range(len(df)):\n",
    "  for w in df['words'].iloc[i]:\n",
    "    if w == 'posemoticontoken' or w == 'negemoticontoken':\n",
    "      emoticoncounter += 1\n",
    "      if random.random() > pThreshold:\n",
    "        df['words'].iloc[i].remove(w)\n",
    "        droppedcounter += 1\n",
    "print 'dropped ' + str(100*float(droppedcounter)/emoticoncounter) + '% of emoticons'"
   ]
  },
  {
   "cell_type": "code",
   "execution_count": 9,
   "metadata": {
    "collapsed": false
   },
   "outputs": [
    {
     "name": "stdout",
     "output_type": "stream",
     "text": [
      "number of tweets: 686704\n",
      "  number of neutral tweets: 273065, 39.7645856148%\n",
      "  number of positive tweets: 182046, 26.5101120716%\n",
      "  number of negative tweets: 231593, 33.7253023137%\n"
     ]
    }
   ],
   "source": [
    "## print out some basic statistics\n",
    "print 'number of tweets: ' + str(len(df))\n",
    "print '  number of neutral tweets: ' + str(sum(df['sentiment']==0)) + ', ' + str(float(sum(df['sentiment']==0))/len(df)*100) + '%'\n",
    "print '  number of positive tweets: ' + str(sum(df['sentiment']==1)) + ', ' + str(float(sum(df['sentiment']==1))/len(df)*100) + '%'\n",
    "print '  number of negative tweets: ' + str(sum(df['sentiment']==-1)) + ', ' + str(float(sum(df['sentiment']==-1))/len(df)*100) + '%'\n",
    "\n",
    "if sum(df['sentiment']==-1) + sum(df['sentiment']==0) + sum(df['sentiment']==1) != len(df):\n",
    "  print 'Warning: not all tweets classified as 1,0,-1!'"
   ]
  },
  {
   "cell_type": "code",
   "execution_count": 10,
   "metadata": {
    "collapsed": false
   },
   "outputs": [
    {
     "name": "stdout",
     "output_type": "stream",
     "text": [
      "+---------------+--------+\n",
      "| Word          |  Count |\n",
      "+---------------+--------+\n",
      "| urltoken      | 434682 |\n",
      "| usernametoken | 414200 |\n",
      "| im            |  39232 |\n",
      "| u             |  37233 |\n",
      "| thanks        |  29832 |\n",
      "| like          |  23590 |\n",
      "| wa            |  23586 |\n",
      "| get           |  23574 |\n",
      "| new           |  21811 |\n",
      "| want          |  21674 |\n",
      "| day           |  21329 |\n",
      "| dont          |  20642 |\n",
      "| one           |  19278 |\n",
      "| love          |  19152 |\n",
      "| good          |  16919 |\n",
      "| miss          |  16796 |\n",
      "| time          |  16311 |\n",
      "| see           |  16216 |\n",
      "| great         |  16006 |\n",
      "| much          |  15912 |\n",
      "| know          |  15856 |\n",
      "| happy         |  15407 |\n",
      "| go            |  15271 |\n",
      "| make          |  14119 |\n",
      "| today         |  13743 |\n",
      "| need          |  13579 |\n",
      "| ha            |  13258 |\n",
      "| cant          |  13239 |\n",
      "| thank         |  13004 |\n",
      "| say           |  12770 |\n",
      "| week          |  12412 |\n",
      "| follow        |  12342 |\n",
      "| year          |  12136 |\n",
      "| help          |  11787 |\n",
      "| back          |  11525 |\n",
      "| sorry         |  11467 |\n",
      "| na            |  11462 |\n",
      "| really        |  11356 |\n",
      "| please        |  11023 |\n",
      "| youre         |  10848 |\n",
      "| hope          |  10680 |\n",
      "| got           |  10557 |\n",
      "| people        |  10366 |\n",
      "| work          |  10212 |\n",
      "| look          |  10032 |\n",
      "| still         |   9969 |\n",
      "| trump         |   9642 |\n",
      "| well          |   9544 |\n",
      "| via           |   9135 |\n",
      "| sad           |   8947 |\n",
      "+---------------+--------+\n"
     ]
    }
   ],
   "source": [
    "## examine word frequencies\n",
    "words_tot = [item for sublist in df['words'] for item in sublist]\n",
    "from prettytable import PrettyTable\n",
    "pt = PrettyTable(field_names=['Word', 'Count']) \n",
    "c = Counter(words_tot)\n",
    "[ pt.add_row(kv) for kv in c.most_common()[:50] ]\n",
    "pt.align['Word'], pt.align['Count'] = 'l', 'r' #set column alignment\n",
    "print pt"
   ]
  },
  {
   "cell_type": "code",
   "execution_count": 11,
   "metadata": {
    "collapsed": false
   },
   "outputs": [
    {
     "name": "stdout",
     "output_type": "stream",
     "text": [
      "0.0305169647314\n"
     ]
    }
   ],
   "source": [
    "## lexical diversity\n",
    "def lexical_diversity(tokens):\n",
    "    return 1.0*len(set(tokens))/len(tokens) \n",
    "print lexical_diversity(words_tot)"
   ]
  },
  {
   "cell_type": "code",
   "execution_count": 12,
   "metadata": {
    "collapsed": false
   },
   "outputs": [
    {
     "data": {
      "text/plain": [
       "<matplotlib.text.Text at 0x7fce9a3d6650>"
      ]
     },
     "execution_count": 12,
     "metadata": {},
     "output_type": "execute_result"
    },
    {
     "data": {
      "image/png": "[encoded data removed]",
      "text/plain": [
       "<matplotlib.figure.Figure at 0x7fce903c0ed0>"
      ]
     },
     "metadata": {},
     "output_type": "display_data"
    }
   ],
   "source": [
    "%matplotlib inline\n",
    "import matplotlib.pyplot as plt\n",
    "words_tot_counts = sorted(Counter(words_tot).values(), reverse=True)\n",
    "plt.loglog(words_tot_counts)\n",
    "plt.ylabel(\"Freq\")\n",
    "plt.xlabel(\"Word Rank\")"
   ]
  },
  {
   "cell_type": "code",
   "execution_count": 13,
   "metadata": {
    "collapsed": false
   },
   "outputs": [],
   "source": [
    "## save the processed data\n",
    "df_final = df.copy(deep=True)\n",
    "df_final = df_final.drop([l for l in list(df.columns.values) if l not in ['sentiment','words']], axis=1)\n",
    "df_final.to_pickle('tweet_data/tweets_munged.pkl')"
   ]
  },
  {
   "cell_type": "code",
   "execution_count": 14,
   "metadata": {
    "collapsed": true
   },
   "outputs": [],
   "source": [
    "### load the sentiment140 tweets\n",
    "#s140df = pd.read_csv('tweet_data/sentiment140/training.1600000.processed.noemoticon.csv', names=['sentiment','id','created_at','query','screen_name','text'])\n",
    "### they classified sentiment as 0=negative, 2=neutral, 4=positive, modify their data to reflect my conventions\n",
    "#s140df['sentiment'] = (s140df['sentiment'] - 2)/2\n",
    "#print 'number of negative tweets: ' + str(sum(s140df['sentiment']==-1))\n",
    "#print 'number of neutral tweets: ' + str(sum(s140df['sentiment']==0))\n",
    "#print 'number of positive tweets: ' + str(sum(s140df['sentiment']==1))"
   ]
  }
 ],
 "metadata": {
  "kernelspec": {
   "display_name": "Python 2, Gavin",
   "language": "python",
   "name": "python2"
  },
  "language_info": {
   "codemirror_mode": {
    "name": "ipython",
    "version": 2
   },
   "file_extension": ".py",
   "mimetype": "text/x-python",
   "name": "python",
   "nbconvert_exporter": "python",
   "pygments_lexer": "ipython2",
   "version": "2.7.11"
  }
 },
 "nbformat": 4,
 "nbformat_minor": 0
}
